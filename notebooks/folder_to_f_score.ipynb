{
 "cells": [
  {
   "cell_type": "code",
   "execution_count": 117,
   "metadata": {
    "collapsed": true
   },
   "outputs": [],
   "source": [
    "import jams\n",
    "import os\n",
    "\n",
    "target_dir = '/Users/tom/Music/DataSet/test-set_cleaned/A38G'\n",
    "ref_dir = '/Users/tom/Music/DataSet/test-set_man'"
   ]
  },
  {
   "cell_type": "code",
   "execution_count": 120,
   "metadata": {},
   "outputs": [],
   "source": [
    "jams_list = [f for f in os.listdir(target_dir) if f.split('.')[1] == 'jams']\n",
    "ref_list = [f for f in os.listdir(ref_dir) if f.split('.')[1] == 'jams']\n",
    "jams_list.sort()\n",
    "ref_list.sort()"
   ]
  },
  {
   "cell_type": "code",
   "execution_count": 129,
   "metadata": {},
   "outputs": [
    {
     "name": "stdout",
     "output_type": "stream",
     "text": [
      "('eh_BN1-129-Eb_c_hex_cln.jams', 'eh_BN1-129-Eb_c_man.jams')\n",
      "('eh_BN1-129-Eb_s_hex_cln.jams', 'eh_BN1-129-Eb_s_man.jams')\n",
      "('jf_Funk3-112-C#_c_hex_cln.jams', 'jf_Funk3-112-C#_c_man.jams')\n",
      "('jf_Funk3-112-C#_s_hex_cln.jams', 'jf_Funk3-112-C#_s_man.jams')\n",
      "('js_SS2-107-Ab_c_hex_cln.jams', 'js_SS2-107-Ab_c_man.jams')\n",
      "('js_SS2-107-Ab_s_hex_cln.jams', 'js_SS2-107-Ab_s_man.jams')\n",
      "('vl_Jazz2-110-Bb_c_hex_cln.jams', 'vl_Jazz2-110-Bb_c_man.jams')\n",
      "('vl_Jazz2-110-Bb_s_hex_cln.jams', 'vl_Jazz2-110-Bb_s_man.jams')\n"
     ]
    }
   ],
   "source": [
    "big_est = jams.Annotation('pitch_midi')\n",
    "big_ref = jams.Annotation('pitch_midi')\n",
    "big_est.duration = 0\n",
    "big_ref.duration = 0\n",
    "for e,r in zip(jams_list, ref_list):\n",
    "    est_jams = jams.load(os.path.join(target_dir, e))\n",
    "    ref_jams = jams.load(os.path.join(ref_dir, r))\n",
    "    print(e,r)\n",
    "    for i in range(6):\n",
    "        est_ann = est_jams.search(namespace='pitch_midi')[i]\n",
    "        ref_ann = ref_jams.search(namespace='pitch_midi')[i]\n",
    "        t_offset = i * est_ann.duration + big_est.duration\n",
    "        big_est.duration += est_ann.duration\n",
    "        big_ref.duration += ref_ann.duration\n",
    "        for obs in est_ann:\n",
    "            big_est.append(time=obs.time + t_offset, duration=obs.duration, value=obs.value)\n",
    "        for obs in ref_ann:\n",
    "            big_ref.append(time=obs.time + t_offset, duration=obs.duration, value=obs.value)"
   ]
  },
  {
   "cell_type": "code",
   "execution_count": 130,
   "metadata": {},
   "outputs": [
    {
     "data": {
      "text/plain": [
       "1184"
      ]
     },
     "execution_count": 130,
     "metadata": {},
     "output_type": "execute_result"
    }
   ],
   "source": [
    "len(big_ref.data)"
   ]
  },
  {
   "cell_type": "code",
   "execution_count": 131,
   "metadata": {},
   "outputs": [
    {
     "data": {
      "text/plain": [
       "1111"
      ]
     },
     "execution_count": 131,
     "metadata": {},
     "output_type": "execute_result"
    }
   ],
   "source": [
    "len(big_est.data)"
   ]
  },
  {
   "cell_type": "code",
   "execution_count": 132,
   "metadata": {},
   "outputs": [
    {
     "data": {
      "text/plain": [
       "OrderedDict([('Voicing Recall', 1.0),\n",
       "             ('Voicing False Alarm', 0.0),\n",
       "             ('Raw Pitch Accuracy', 0.82616033755274265),\n",
       "             ('Raw Chroma Accuracy', 0.83375527426160334),\n",
       "             ('Overall Accuracy', 0.82616033755274265)])"
      ]
     },
     "execution_count": 132,
     "metadata": {},
     "output_type": "execute_result"
    }
   ],
   "source": []
  },
  {
   "cell_type": "code",
   "execution_count": null,
   "metadata": {
    "collapsed": true
   },
   "outputs": [],
   "source": []
  }
 ],
 "metadata": {
  "anaconda-cloud": {},
  "kernelspec": {
   "display_name": "Python [conda root]",
   "language": "python",
   "name": "conda-root-py"
  },
  "language_info": {
   "codemirror_mode": {
    "name": "ipython",
    "version": 2
   },
   "file_extension": ".py",
   "mimetype": "text/x-python",
   "name": "python",
   "nbconvert_exporter": "python",
   "pygments_lexer": "ipython2",
   "version": "2.7.12"
  }
 },
 "nbformat": 4,
 "nbformat_minor": 2
}
