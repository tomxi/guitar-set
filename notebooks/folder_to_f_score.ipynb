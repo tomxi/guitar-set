{
 "cells": [
  {
   "cell_type": "code",
   "execution_count": 47,
   "metadata": {
    "collapsed": true
   },
   "outputs": [],
   "source": [
    "import jams\n",
    "import os\n",
    "import json\n",
    "import matplotlib.pyplot as plt\n",
    "% matplotlib inline"
   ]
  },
  {
   "cell_type": "code",
   "execution_count": 44,
   "metadata": {},
   "outputs": [],
   "source": [
    "def dir_to_score(ref_dir, est_dir):\n",
    "    jams_list = [f for f in os.listdir(est_dir) if f.split('.')[1] == 'jams']\n",
    "    ref_list = [f for f in os.listdir(ref_dir) if f.split('.')[1] == 'jams']\n",
    "    jams_list.sort()\n",
    "    ref_list.sort()\n",
    "    \n",
    "    # combine and collect all annotations in big_est and big_ref\n",
    "    big_est = jams.Annotation('pitch_midi')\n",
    "    big_ref = jams.Annotation('pitch_midi')\n",
    "    big_est.duration = 0\n",
    "    big_ref.duration = 0\n",
    "    for e,r in zip(jams_list, ref_list):\n",
    "        est_jams = jams.load(os.path.join(est_dir, e))\n",
    "        ref_jams = jams.load(os.path.join(ref_dir, r))\n",
    "        # print(e,r)\n",
    "        for i in range(6):\n",
    "            est_ann = est_jams.search(namespace='pitch_midi')[i]\n",
    "            ref_ann = ref_jams.search(namespace='pitch_midi')[i]\n",
    "            t_offset = i * est_ann.duration + big_est.duration\n",
    "            big_est.duration += est_ann.duration\n",
    "            big_ref.duration += ref_ann.duration\n",
    "            for obs in est_ann:\n",
    "                big_est.append(time=obs.time + t_offset, duration=obs.duration, value=obs.value)\n",
    "            for obs in ref_ann:\n",
    "                big_ref.append(time=obs.time + t_offset, duration=obs.duration, value=obs.value)\n",
    "                \n",
    "    scores = jams.eval.transcription(big_ref, big_est)\n",
    "    return scores\n",
    "\n",
    "def get_dir_list(dir_path):\n",
    "    dir_list = [os.path.join(dir_path, d) for d in os.listdir(dir_path) \n",
    "                if os.path.isdir(os.path.join(dir_path, d))]\n",
    "    return dir_list\n"
   ]
  },
  {
   "cell_type": "code",
   "execution_count": 40,
   "metadata": {},
   "outputs": [
    {
     "name": "stdout",
     "output_type": "stream",
     "text": [
      "('/Users/tom/Music/DataSet/test-set_cleaned/LW6D', 247)\n"
     ]
    },
    {
     "name": "stdout",
     "output_type": "stream",
     "text": [
      "('/Users/tom/Music/DataSet/test-set_cleaned/F4V8', 246)\n"
     ]
    },
    {
     "name": "stdout",
     "output_type": "stream",
     "text": [
      "('/Users/tom/Music/DataSet/test-set_cleaned/7DWS', 245)\n"
     ]
    },
    {
     "name": "stdout",
     "output_type": "stream",
     "text": [
      "('/Users/tom/Music/DataSet/test-set_cleaned/509Y', 244)\n"
     ]
    },
    {
     "name": "stdout",
     "output_type": "stream",
     "text": [
      "('/Users/tom/Music/DataSet/test-set_cleaned/ZLNQ', 243)\n"
     ]
    },
    {
     "name": "stdout",
     "output_type": "stream",
     "text": [
      "('/Users/tom/Music/DataSet/test-set_cleaned/7U0S', 242)\n"
     ]
    },
    {
     "name": "stdout",
     "output_type": "stream",
     "text": [
      "('/Users/tom/Music/DataSet/test-set_cleaned/OYT5', 241)\n"
     ]
    },
    {
     "name": "stdout",
     "output_type": "stream",
     "text": [
      "('/Users/tom/Music/DataSet/test-set_cleaned/KRA8', 240)\n"
     ]
    },
    {
     "name": "stdout",
     "output_type": "stream",
     "text": [
      "('/Users/tom/Music/DataSet/test-set_cleaned/5EXX', 239)\n"
     ]
    },
    {
     "name": "stdout",
     "output_type": "stream",
     "text": [
      "('/Users/tom/Music/DataSet/test-set_cleaned/XJXQ', 238)\n"
     ]
    },
    {
     "name": "stdout",
     "output_type": "stream",
     "text": [
      "('/Users/tom/Music/DataSet/test-set_cleaned/E3B9', 237)\n"
     ]
    },
    {
     "name": "stdout",
     "output_type": "stream",
     "text": [
      "('/Users/tom/Music/DataSet/test-set_cleaned/ITX5', 236)\n"
     ]
    },
    {
     "name": "stdout",
     "output_type": "stream",
     "text": [
      "('/Users/tom/Music/DataSet/test-set_cleaned/SH3V', 235)\n"
     ]
    },
    {
     "name": "stdout",
     "output_type": "stream",
     "text": [
      "('/Users/tom/Music/DataSet/test-set_cleaned/EG5D', 234)\n"
     ]
    },
    {
     "name": "stdout",
     "output_type": "stream",
     "text": [
      "('/Users/tom/Music/DataSet/test-set_cleaned/8EF4', 233)\n"
     ]
    },
    {
     "name": "stdout",
     "output_type": "stream",
     "text": [
      "('/Users/tom/Music/DataSet/test-set_cleaned/8D3S', 232)\n"
     ]
    },
    {
     "name": "stdout",
     "output_type": "stream",
     "text": [
      "('/Users/tom/Music/DataSet/test-set_cleaned/INFD', 231)\n"
     ]
    },
    {
     "name": "stdout",
     "output_type": "stream",
     "text": [
      "('/Users/tom/Music/DataSet/test-set_cleaned/B9I1', 230)\n"
     ]
    },
    {
     "name": "stdout",
     "output_type": "stream",
     "text": [
      "('/Users/tom/Music/DataSet/test-set_cleaned/EKUS', 229)\n"
     ]
    },
    {
     "name": "stdout",
     "output_type": "stream",
     "text": [
      "('/Users/tom/Music/DataSet/test-set_cleaned/XSSM', 228)\n"
     ]
    },
    {
     "name": "stdout",
     "output_type": "stream",
     "text": [
      "('/Users/tom/Music/DataSet/test-set_cleaned/DKDU', 227)\n"
     ]
    },
    {
     "name": "stdout",
     "output_type": "stream",
     "text": [
      "('/Users/tom/Music/DataSet/test-set_cleaned/4FP7', 226)\n"
     ]
    },
    {
     "name": "stdout",
     "output_type": "stream",
     "text": [
      "('/Users/tom/Music/DataSet/test-set_cleaned/R4P1', 225)\n"
     ]
    },
    {
     "name": "stdout",
     "output_type": "stream",
     "text": [
      "('/Users/tom/Music/DataSet/test-set_cleaned/UIS5', 224)\n"
     ]
    },
    {
     "name": "stdout",
     "output_type": "stream",
     "text": [
      "('/Users/tom/Music/DataSet/test-set_cleaned/GEL1', 223)\n"
     ]
    },
    {
     "name": "stdout",
     "output_type": "stream",
     "text": [
      "('/Users/tom/Music/DataSet/test-set_cleaned/LS5K', 222)\n"
     ]
    },
    {
     "name": "stdout",
     "output_type": "stream",
     "text": [
      "('/Users/tom/Music/DataSet/test-set_cleaned/GGOX', 221)\n"
     ]
    },
    {
     "name": "stdout",
     "output_type": "stream",
     "text": [
      "('/Users/tom/Music/DataSet/test-set_cleaned/QDC0', 220)\n"
     ]
    },
    {
     "name": "stdout",
     "output_type": "stream",
     "text": [
      "('/Users/tom/Music/DataSet/test-set_cleaned/R4KG', 219)\n"
     ]
    },
    {
     "name": "stdout",
     "output_type": "stream",
     "text": [
      "('/Users/tom/Music/DataSet/test-set_cleaned/DMUM', 218)\n"
     ]
    },
    {
     "name": "stdout",
     "output_type": "stream",
     "text": [
      "('/Users/tom/Music/DataSet/test-set_cleaned/BB5W', 217)\n"
     ]
    },
    {
     "name": "stdout",
     "output_type": "stream",
     "text": [
      "('/Users/tom/Music/DataSet/test-set_cleaned/CHHA', 216)\n"
     ]
    },
    {
     "name": "stdout",
     "output_type": "stream",
     "text": [
      "('/Users/tom/Music/DataSet/test-set_cleaned/0KRP', 215)\n"
     ]
    },
    {
     "name": "stdout",
     "output_type": "stream",
     "text": [
      "('/Users/tom/Music/DataSet/test-set_cleaned/LM5T', 214)\n"
     ]
    },
    {
     "name": "stdout",
     "output_type": "stream",
     "text": [
      "('/Users/tom/Music/DataSet/test-set_cleaned/9YXA', 213)\n"
     ]
    },
    {
     "name": "stdout",
     "output_type": "stream",
     "text": [
      "('/Users/tom/Music/DataSet/test-set_cleaned/AVFN', 212)\n"
     ]
    },
    {
     "name": "stdout",
     "output_type": "stream",
     "text": [
      "('/Users/tom/Music/DataSet/test-set_cleaned/WULS', 211)\n"
     ]
    },
    {
     "name": "stdout",
     "output_type": "stream",
     "text": [
      "('/Users/tom/Music/DataSet/test-set_cleaned/VBVU', 210)\n"
     ]
    },
    {
     "name": "stdout",
     "output_type": "stream",
     "text": [
      "('/Users/tom/Music/DataSet/test-set_cleaned/0K1D', 209)\n"
     ]
    },
    {
     "name": "stdout",
     "output_type": "stream",
     "text": [
      "('/Users/tom/Music/DataSet/test-set_cleaned/YL1T', 208)\n"
     ]
    },
    {
     "name": "stdout",
     "output_type": "stream",
     "text": [
      "('/Users/tom/Music/DataSet/test-set_cleaned/4TPH', 207)\n"
     ]
    },
    {
     "name": "stdout",
     "output_type": "stream",
     "text": [
      "('/Users/tom/Music/DataSet/test-set_cleaned/P6RP', 206)\n"
     ]
    },
    {
     "name": "stdout",
     "output_type": "stream",
     "text": [
      "('/Users/tom/Music/DataSet/test-set_cleaned/H8TO', 205)\n"
     ]
    },
    {
     "name": "stdout",
     "output_type": "stream",
     "text": [
      "('/Users/tom/Music/DataSet/test-set_cleaned/NBPL', 204)\n"
     ]
    },
    {
     "name": "stdout",
     "output_type": "stream",
     "text": [
      "('/Users/tom/Music/DataSet/test-set_cleaned/MOK7', 203)\n"
     ]
    },
    {
     "name": "stdout",
     "output_type": "stream",
     "text": [
      "('/Users/tom/Music/DataSet/test-set_cleaned/ZDYK', 202)\n"
     ]
    },
    {
     "name": "stdout",
     "output_type": "stream",
     "text": [
      "('/Users/tom/Music/DataSet/test-set_cleaned/CZ9N', 201)\n"
     ]
    },
    {
     "name": "stdout",
     "output_type": "stream",
     "text": [
      "('/Users/tom/Music/DataSet/test-set_cleaned/W1OE', 200)\n"
     ]
    },
    {
     "name": "stdout",
     "output_type": "stream",
     "text": [
      "('/Users/tom/Music/DataSet/test-set_cleaned/F51D', 199)\n"
     ]
    },
    {
     "name": "stdout",
     "output_type": "stream",
     "text": [
      "('/Users/tom/Music/DataSet/test-set_cleaned/6JQP', 198)\n"
     ]
    },
    {
     "name": "stdout",
     "output_type": "stream",
     "text": [
      "('/Users/tom/Music/DataSet/test-set_cleaned/6LX6', 197)\n"
     ]
    },
    {
     "name": "stdout",
     "output_type": "stream",
     "text": [
      "('/Users/tom/Music/DataSet/test-set_cleaned/2SSC', 196)\n"
     ]
    },
    {
     "name": "stdout",
     "output_type": "stream",
     "text": [
      "('/Users/tom/Music/DataSet/test-set_cleaned/0T99', 195)\n"
     ]
    },
    {
     "name": "stdout",
     "output_type": "stream",
     "text": [
      "('/Users/tom/Music/DataSet/test-set_cleaned/NEI8', 194)\n"
     ]
    },
    {
     "name": "stdout",
     "output_type": "stream",
     "text": [
      "('/Users/tom/Music/DataSet/test-set_cleaned/ZECB', 193)\n"
     ]
    },
    {
     "name": "stdout",
     "output_type": "stream",
     "text": [
      "('/Users/tom/Music/DataSet/test-set_cleaned/D1BX', 192)\n"
     ]
    },
    {
     "name": "stdout",
     "output_type": "stream",
     "text": [
      "('/Users/tom/Music/DataSet/test-set_cleaned/K5II', 191)\n"
     ]
    },
    {
     "name": "stdout",
     "output_type": "stream",
     "text": [
      "('/Users/tom/Music/DataSet/test-set_cleaned/G0U8', 190)\n"
     ]
    },
    {
     "name": "stdout",
     "output_type": "stream",
     "text": [
      "('/Users/tom/Music/DataSet/test-set_cleaned/MW6V', 189)\n"
     ]
    },
    {
     "name": "stdout",
     "output_type": "stream",
     "text": [
      "('/Users/tom/Music/DataSet/test-set_cleaned/Z9TD', 188)\n"
     ]
    },
    {
     "name": "stdout",
     "output_type": "stream",
     "text": [
      "('/Users/tom/Music/DataSet/test-set_cleaned/0BKI', 187)\n"
     ]
    },
    {
     "name": "stdout",
     "output_type": "stream",
     "text": [
      "('/Users/tom/Music/DataSet/test-set_cleaned/X6TV', 186)\n"
     ]
    },
    {
     "name": "stdout",
     "output_type": "stream",
     "text": [
      "('/Users/tom/Music/DataSet/test-set_cleaned/F1UP', 185)\n"
     ]
    },
    {
     "name": "stdout",
     "output_type": "stream",
     "text": [
      "('/Users/tom/Music/DataSet/test-set_cleaned/8KSY', 184)\n"
     ]
    },
    {
     "name": "stdout",
     "output_type": "stream",
     "text": [
      "('/Users/tom/Music/DataSet/test-set_cleaned/8YAQ', 183)\n"
     ]
    },
    {
     "name": "stdout",
     "output_type": "stream",
     "text": [
      "('/Users/tom/Music/DataSet/test-set_cleaned/1GH4', 182)\n"
     ]
    },
    {
     "name": "stdout",
     "output_type": "stream",
     "text": [
      "('/Users/tom/Music/DataSet/test-set_cleaned/WV7A', 181)\n"
     ]
    },
    {
     "name": "stdout",
     "output_type": "stream",
     "text": [
      "('/Users/tom/Music/DataSet/test-set_cleaned/ZMAC', 180)\n"
     ]
    },
    {
     "name": "stdout",
     "output_type": "stream",
     "text": [
      "('/Users/tom/Music/DataSet/test-set_cleaned/74Y6', 179)\n"
     ]
    },
    {
     "name": "stdout",
     "output_type": "stream",
     "text": [
      "('/Users/tom/Music/DataSet/test-set_cleaned/3A1G', 178)\n"
     ]
    },
    {
     "name": "stdout",
     "output_type": "stream",
     "text": [
      "('/Users/tom/Music/DataSet/test-set_cleaned/4Z2C', 177)\n"
     ]
    },
    {
     "name": "stdout",
     "output_type": "stream",
     "text": [
      "('/Users/tom/Music/DataSet/test-set_cleaned/P1J5', 176)\n"
     ]
    },
    {
     "name": "stdout",
     "output_type": "stream",
     "text": [
      "('/Users/tom/Music/DataSet/test-set_cleaned/0CUO', 175)\n"
     ]
    },
    {
     "name": "stdout",
     "output_type": "stream",
     "text": [
      "('/Users/tom/Music/DataSet/test-set_cleaned/W8WK', 174)\n"
     ]
    },
    {
     "name": "stdout",
     "output_type": "stream",
     "text": [
      "('/Users/tom/Music/DataSet/test-set_cleaned/9ANG', 173)\n"
     ]
    },
    {
     "name": "stdout",
     "output_type": "stream",
     "text": [
      "('/Users/tom/Music/DataSet/test-set_cleaned/LBDB', 172)\n"
     ]
    },
    {
     "name": "stdout",
     "output_type": "stream",
     "text": [
      "('/Users/tom/Music/DataSet/test-set_cleaned/EJ6C', 171)\n"
     ]
    },
    {
     "name": "stdout",
     "output_type": "stream",
     "text": [
      "('/Users/tom/Music/DataSet/test-set_cleaned/JY05', 170)\n"
     ]
    },
    {
     "name": "stdout",
     "output_type": "stream",
     "text": [
      "('/Users/tom/Music/DataSet/test-set_cleaned/2U2C', 169)\n"
     ]
    },
    {
     "name": "stdout",
     "output_type": "stream",
     "text": [
      "('/Users/tom/Music/DataSet/test-set_cleaned/3XVE', 168)\n"
     ]
    },
    {
     "name": "stdout",
     "output_type": "stream",
     "text": [
      "('/Users/tom/Music/DataSet/test-set_cleaned/B35T', 167)\n"
     ]
    },
    {
     "name": "stdout",
     "output_type": "stream",
     "text": [
      "('/Users/tom/Music/DataSet/test-set_cleaned/RW92', 166)\n"
     ]
    },
    {
     "name": "stdout",
     "output_type": "stream",
     "text": [
      "('/Users/tom/Music/DataSet/test-set_cleaned/V30S', 165)\n"
     ]
    },
    {
     "name": "stdout",
     "output_type": "stream",
     "text": [
      "('/Users/tom/Music/DataSet/test-set_cleaned/EXAA', 164)\n"
     ]
    },
    {
     "name": "stdout",
     "output_type": "stream",
     "text": [
      "('/Users/tom/Music/DataSet/test-set_cleaned/WE9E', 163)\n"
     ]
    },
    {
     "name": "stdout",
     "output_type": "stream",
     "text": [
      "('/Users/tom/Music/DataSet/test-set_cleaned/46XB', 162)\n"
     ]
    },
    {
     "name": "stdout",
     "output_type": "stream",
     "text": [
      "('/Users/tom/Music/DataSet/test-set_cleaned/QDUN', 161)\n"
     ]
    },
    {
     "name": "stdout",
     "output_type": "stream",
     "text": [
      "('/Users/tom/Music/DataSet/test-set_cleaned/4C9D', 160)\n"
     ]
    },
    {
     "name": "stdout",
     "output_type": "stream",
     "text": [
      "('/Users/tom/Music/DataSet/test-set_cleaned/6PN0', 159)\n"
     ]
    },
    {
     "name": "stdout",
     "output_type": "stream",
     "text": [
      "('/Users/tom/Music/DataSet/test-set_cleaned/JLWX', 158)\n"
     ]
    },
    {
     "name": "stdout",
     "output_type": "stream",
     "text": [
      "('/Users/tom/Music/DataSet/test-set_cleaned/TR05', 157)\n"
     ]
    },
    {
     "name": "stdout",
     "output_type": "stream",
     "text": [
      "('/Users/tom/Music/DataSet/test-set_cleaned/7YR0', 156)\n"
     ]
    },
    {
     "name": "stdout",
     "output_type": "stream",
     "text": [
      "('/Users/tom/Music/DataSet/test-set_cleaned/L51B', 155)\n"
     ]
    },
    {
     "name": "stdout",
     "output_type": "stream",
     "text": [
      "('/Users/tom/Music/DataSet/test-set_cleaned/S0C3', 154)\n"
     ]
    },
    {
     "name": "stdout",
     "output_type": "stream",
     "text": [
      "('/Users/tom/Music/DataSet/test-set_cleaned/D8DG', 153)\n"
     ]
    },
    {
     "name": "stdout",
     "output_type": "stream",
     "text": [
      "('/Users/tom/Music/DataSet/test-set_cleaned/9MY6', 152)\n"
     ]
    },
    {
     "name": "stdout",
     "output_type": "stream",
     "text": [
      "('/Users/tom/Music/DataSet/test-set_cleaned/0395', 151)\n"
     ]
    },
    {
     "name": "stdout",
     "output_type": "stream",
     "text": [
      "('/Users/tom/Music/DataSet/test-set_cleaned/HXM7', 150)\n"
     ]
    },
    {
     "name": "stdout",
     "output_type": "stream",
     "text": [
      "('/Users/tom/Music/DataSet/test-set_cleaned/8JRD', 149)\n"
     ]
    },
    {
     "name": "stdout",
     "output_type": "stream",
     "text": [
      "('/Users/tom/Music/DataSet/test-set_cleaned/JZ89', 148)\n"
     ]
    },
    {
     "name": "stdout",
     "output_type": "stream",
     "text": [
      "('/Users/tom/Music/DataSet/test-set_cleaned/H72Z', 147)\n"
     ]
    },
    {
     "name": "stdout",
     "output_type": "stream",
     "text": [
      "('/Users/tom/Music/DataSet/test-set_cleaned/BR8U', 146)\n"
     ]
    },
    {
     "name": "stdout",
     "output_type": "stream",
     "text": [
      "('/Users/tom/Music/DataSet/test-set_cleaned/2Z5A', 145)\n"
     ]
    },
    {
     "name": "stdout",
     "output_type": "stream",
     "text": [
      "('/Users/tom/Music/DataSet/test-set_cleaned/3CFG', 144)\n"
     ]
    },
    {
     "name": "stdout",
     "output_type": "stream",
     "text": [
      "('/Users/tom/Music/DataSet/test-set_cleaned/0ANM', 143)\n"
     ]
    },
    {
     "name": "stdout",
     "output_type": "stream",
     "text": [
      "('/Users/tom/Music/DataSet/test-set_cleaned/39WZ', 142)\n"
     ]
    },
    {
     "name": "stdout",
     "output_type": "stream",
     "text": [
      "('/Users/tom/Music/DataSet/test-set_cleaned/HAE8', 141)\n"
     ]
    },
    {
     "name": "stdout",
     "output_type": "stream",
     "text": [
      "('/Users/tom/Music/DataSet/test-set_cleaned/E3JW', 140)\n"
     ]
    },
    {
     "name": "stdout",
     "output_type": "stream",
     "text": [
      "('/Users/tom/Music/DataSet/test-set_cleaned/XB3Q', 139)\n"
     ]
    },
    {
     "name": "stdout",
     "output_type": "stream",
     "text": [
      "('/Users/tom/Music/DataSet/test-set_cleaned/PDYM', 138)\n"
     ]
    },
    {
     "name": "stdout",
     "output_type": "stream",
     "text": [
      "('/Users/tom/Music/DataSet/test-set_cleaned/XKF2', 137)\n"
     ]
    },
    {
     "name": "stdout",
     "output_type": "stream",
     "text": [
      "('/Users/tom/Music/DataSet/test-set_cleaned/HTD5', 136)\n"
     ]
    },
    {
     "name": "stdout",
     "output_type": "stream",
     "text": [
      "('/Users/tom/Music/DataSet/test-set_cleaned/6CSD', 135)\n"
     ]
    },
    {
     "name": "stdout",
     "output_type": "stream",
     "text": [
      "('/Users/tom/Music/DataSet/test-set_cleaned/1TYV', 134)\n"
     ]
    },
    {
     "name": "stdout",
     "output_type": "stream",
     "text": [
      "('/Users/tom/Music/DataSet/test-set_cleaned/8SQL', 133)\n"
     ]
    },
    {
     "name": "stdout",
     "output_type": "stream",
     "text": [
      "('/Users/tom/Music/DataSet/test-set_cleaned/MGP0', 132)\n"
     ]
    },
    {
     "name": "stdout",
     "output_type": "stream",
     "text": [
      "('/Users/tom/Music/DataSet/test-set_cleaned/0HUZ', 131)\n"
     ]
    },
    {
     "name": "stdout",
     "output_type": "stream",
     "text": [
      "('/Users/tom/Music/DataSet/test-set_cleaned/M5DA', 130)\n"
     ]
    },
    {
     "name": "stdout",
     "output_type": "stream",
     "text": [
      "('/Users/tom/Music/DataSet/test-set_cleaned/TDW1', 129)\n"
     ]
    },
    {
     "name": "stdout",
     "output_type": "stream",
     "text": [
      "('/Users/tom/Music/DataSet/test-set_cleaned/ZRUE', 128)\n"
     ]
    },
    {
     "name": "stdout",
     "output_type": "stream",
     "text": [
      "('/Users/tom/Music/DataSet/test-set_cleaned/WH3O', 127)\n"
     ]
    },
    {
     "name": "stdout",
     "output_type": "stream",
     "text": [
      "('/Users/tom/Music/DataSet/test-set_cleaned/02M6', 126)\n"
     ]
    },
    {
     "name": "stdout",
     "output_type": "stream",
     "text": [
      "('/Users/tom/Music/DataSet/test-set_cleaned/7QVZ', 125)\n"
     ]
    },
    {
     "name": "stdout",
     "output_type": "stream",
     "text": [
      "('/Users/tom/Music/DataSet/test-set_cleaned/J8Z8', 124)\n"
     ]
    },
    {
     "name": "stdout",
     "output_type": "stream",
     "text": [
      "('/Users/tom/Music/DataSet/test-set_cleaned/G7W6', 123)\n"
     ]
    },
    {
     "name": "stdout",
     "output_type": "stream",
     "text": [
      "('/Users/tom/Music/DataSet/test-set_cleaned/WHVP', 122)\n"
     ]
    },
    {
     "name": "stdout",
     "output_type": "stream",
     "text": [
      "('/Users/tom/Music/DataSet/test-set_cleaned/3CNF', 121)\n"
     ]
    },
    {
     "name": "stdout",
     "output_type": "stream",
     "text": [
      "('/Users/tom/Music/DataSet/test-set_cleaned/4U4N', 120)\n"
     ]
    },
    {
     "name": "stdout",
     "output_type": "stream",
     "text": [
      "('/Users/tom/Music/DataSet/test-set_cleaned/CFPD', 119)\n"
     ]
    },
    {
     "name": "stdout",
     "output_type": "stream",
     "text": [
      "('/Users/tom/Music/DataSet/test-set_cleaned/3F4I', 118)\n"
     ]
    },
    {
     "name": "stdout",
     "output_type": "stream",
     "text": [
      "('/Users/tom/Music/DataSet/test-set_cleaned/KJ5U', 117)\n"
     ]
    },
    {
     "name": "stdout",
     "output_type": "stream",
     "text": [
      "('/Users/tom/Music/DataSet/test-set_cleaned/VTPS', 116)\n"
     ]
    },
    {
     "name": "stdout",
     "output_type": "stream",
     "text": [
      "('/Users/tom/Music/DataSet/test-set_cleaned/OFSS', 115)\n"
     ]
    },
    {
     "name": "stdout",
     "output_type": "stream",
     "text": [
      "('/Users/tom/Music/DataSet/test-set_cleaned/P7ZI', 114)\n"
     ]
    },
    {
     "name": "stdout",
     "output_type": "stream",
     "text": [
      "('/Users/tom/Music/DataSet/test-set_cleaned/MBO2', 113)\n"
     ]
    },
    {
     "name": "stdout",
     "output_type": "stream",
     "text": [
      "('/Users/tom/Music/DataSet/test-set_cleaned/ANOQ', 112)\n"
     ]
    },
    {
     "name": "stdout",
     "output_type": "stream",
     "text": [
      "('/Users/tom/Music/DataSet/test-set_cleaned/61D2', 111)\n"
     ]
    },
    {
     "name": "stdout",
     "output_type": "stream",
     "text": [
      "('/Users/tom/Music/DataSet/test-set_cleaned/RDG8', 110)\n"
     ]
    },
    {
     "name": "stdout",
     "output_type": "stream",
     "text": [
      "('/Users/tom/Music/DataSet/test-set_cleaned/EUMZ', 109)\n"
     ]
    },
    {
     "name": "stdout",
     "output_type": "stream",
     "text": [
      "('/Users/tom/Music/DataSet/test-set_cleaned/TQ30', 108)\n"
     ]
    },
    {
     "name": "stdout",
     "output_type": "stream",
     "text": [
      "('/Users/tom/Music/DataSet/test-set_cleaned/G2G0', 107)\n"
     ]
    },
    {
     "name": "stdout",
     "output_type": "stream",
     "text": [
      "('/Users/tom/Music/DataSet/test-set_cleaned/JBK8', 106)\n"
     ]
    },
    {
     "name": "stdout",
     "output_type": "stream",
     "text": [
      "('/Users/tom/Music/DataSet/test-set_cleaned/U47R', 105)\n"
     ]
    },
    {
     "name": "stdout",
     "output_type": "stream",
     "text": [
      "('/Users/tom/Music/DataSet/test-set_cleaned/TRJ3', 104)\n"
     ]
    },
    {
     "name": "stdout",
     "output_type": "stream",
     "text": [
      "('/Users/tom/Music/DataSet/test-set_cleaned/UEN0', 103)\n"
     ]
    },
    {
     "name": "stdout",
     "output_type": "stream",
     "text": [
      "('/Users/tom/Music/DataSet/test-set_cleaned/YRJ7', 102)\n"
     ]
    },
    {
     "name": "stdout",
     "output_type": "stream",
     "text": [
      "('/Users/tom/Music/DataSet/test-set_cleaned/6767', 101)\n"
     ]
    },
    {
     "name": "stdout",
     "output_type": "stream",
     "text": [
      "('/Users/tom/Music/DataSet/test-set_cleaned/M4L1', 100)\n"
     ]
    },
    {
     "name": "stdout",
     "output_type": "stream",
     "text": [
      "('/Users/tom/Music/DataSet/test-set_cleaned/79NH', 99)\n"
     ]
    },
    {
     "name": "stdout",
     "output_type": "stream",
     "text": [
      "('/Users/tom/Music/DataSet/test-set_cleaned/MGHT', 98)\n"
     ]
    },
    {
     "name": "stdout",
     "output_type": "stream",
     "text": [
      "('/Users/tom/Music/DataSet/test-set_cleaned/BEFC', 97)\n"
     ]
    },
    {
     "name": "stdout",
     "output_type": "stream",
     "text": [
      "('/Users/tom/Music/DataSet/test-set_cleaned/DLOA', 96)\n"
     ]
    },
    {
     "name": "stdout",
     "output_type": "stream",
     "text": [
      "('/Users/tom/Music/DataSet/test-set_cleaned/P2XG', 95)\n"
     ]
    },
    {
     "name": "stdout",
     "output_type": "stream",
     "text": [
      "('/Users/tom/Music/DataSet/test-set_cleaned/G0ZN', 94)\n"
     ]
    },
    {
     "name": "stdout",
     "output_type": "stream",
     "text": [
      "('/Users/tom/Music/DataSet/test-set_cleaned/79A5', 93)\n"
     ]
    },
    {
     "name": "stdout",
     "output_type": "stream",
     "text": [
      "('/Users/tom/Music/DataSet/test-set_cleaned/QJ1B', 92)\n"
     ]
    },
    {
     "name": "stdout",
     "output_type": "stream",
     "text": [
      "('/Users/tom/Music/DataSet/test-set_cleaned/5F59', 91)\n"
     ]
    },
    {
     "name": "stdout",
     "output_type": "stream",
     "text": [
      "('/Users/tom/Music/DataSet/test-set_cleaned/O7I9', 90)\n"
     ]
    },
    {
     "name": "stdout",
     "output_type": "stream",
     "text": [
      "('/Users/tom/Music/DataSet/test-set_cleaned/O5LG', 89)\n"
     ]
    },
    {
     "name": "stdout",
     "output_type": "stream",
     "text": [
      "('/Users/tom/Music/DataSet/test-set_cleaned/PR25', 88)\n"
     ]
    },
    {
     "name": "stdout",
     "output_type": "stream",
     "text": [
      "('/Users/tom/Music/DataSet/test-set_cleaned/O9FL', 87)\n"
     ]
    },
    {
     "name": "stdout",
     "output_type": "stream",
     "text": [
      "('/Users/tom/Music/DataSet/test-set_cleaned/YN1O', 86)\n"
     ]
    },
    {
     "name": "stdout",
     "output_type": "stream",
     "text": [
      "('/Users/tom/Music/DataSet/test-set_cleaned/R94M', 85)\n"
     ]
    },
    {
     "name": "stdout",
     "output_type": "stream",
     "text": [
      "('/Users/tom/Music/DataSet/test-set_cleaned/VWQB', 84)\n"
     ]
    },
    {
     "name": "stdout",
     "output_type": "stream",
     "text": [
      "('/Users/tom/Music/DataSet/test-set_cleaned/MKMZ', 83)\n"
     ]
    },
    {
     "name": "stdout",
     "output_type": "stream",
     "text": [
      "('/Users/tom/Music/DataSet/test-set_cleaned/O5C5', 82)\n"
     ]
    },
    {
     "name": "stdout",
     "output_type": "stream",
     "text": [
      "('/Users/tom/Music/DataSet/test-set_cleaned/BLZW', 81)\n"
     ]
    },
    {
     "name": "stdout",
     "output_type": "stream",
     "text": [
      "('/Users/tom/Music/DataSet/test-set_cleaned/VF5P', 80)\n"
     ]
    },
    {
     "name": "stdout",
     "output_type": "stream",
     "text": [
      "('/Users/tom/Music/DataSet/test-set_cleaned/NOFT', 79)\n"
     ]
    },
    {
     "name": "stdout",
     "output_type": "stream",
     "text": [
      "('/Users/tom/Music/DataSet/test-set_cleaned/WQFL', 78)\n"
     ]
    },
    {
     "name": "stdout",
     "output_type": "stream",
     "text": [
      "('/Users/tom/Music/DataSet/test-set_cleaned/6AMP', 77)\n"
     ]
    },
    {
     "name": "stdout",
     "output_type": "stream",
     "text": [
      "('/Users/tom/Music/DataSet/test-set_cleaned/84YD', 76)\n"
     ]
    },
    {
     "name": "stdout",
     "output_type": "stream",
     "text": [
      "('/Users/tom/Music/DataSet/test-set_cleaned/G3FZ', 75)\n"
     ]
    },
    {
     "name": "stdout",
     "output_type": "stream",
     "text": [
      "('/Users/tom/Music/DataSet/test-set_cleaned/R78T', 74)\n"
     ]
    },
    {
     "name": "stdout",
     "output_type": "stream",
     "text": [
      "('/Users/tom/Music/DataSet/test-set_cleaned/WPSR', 73)\n"
     ]
    },
    {
     "name": "stdout",
     "output_type": "stream",
     "text": [
      "('/Users/tom/Music/DataSet/test-set_cleaned/UU9R', 72)\n"
     ]
    },
    {
     "name": "stdout",
     "output_type": "stream",
     "text": [
      "('/Users/tom/Music/DataSet/test-set_cleaned/4MQB', 71)\n"
     ]
    },
    {
     "name": "stdout",
     "output_type": "stream",
     "text": [
      "('/Users/tom/Music/DataSet/test-set_cleaned/ZW4M', 70)\n"
     ]
    },
    {
     "name": "stdout",
     "output_type": "stream",
     "text": [
      "('/Users/tom/Music/DataSet/test-set_cleaned/M4K1', 69)\n"
     ]
    },
    {
     "name": "stdout",
     "output_type": "stream",
     "text": [
      "('/Users/tom/Music/DataSet/test-set_cleaned/AHPH', 68)\n"
     ]
    },
    {
     "name": "stdout",
     "output_type": "stream",
     "text": [
      "('/Users/tom/Music/DataSet/test-set_cleaned/68A0', 67)\n"
     ]
    },
    {
     "name": "stdout",
     "output_type": "stream",
     "text": [
      "('/Users/tom/Music/DataSet/test-set_cleaned/PE18', 66)\n"
     ]
    },
    {
     "name": "stdout",
     "output_type": "stream",
     "text": [
      "('/Users/tom/Music/DataSet/test-set_cleaned/R3VI', 65)\n"
     ]
    },
    {
     "name": "stdout",
     "output_type": "stream",
     "text": [
      "('/Users/tom/Music/DataSet/test-set_cleaned/SYHR', 64)\n"
     ]
    },
    {
     "name": "stdout",
     "output_type": "stream",
     "text": [
      "('/Users/tom/Music/DataSet/test-set_cleaned/P3JY', 63)\n"
     ]
    },
    {
     "name": "stdout",
     "output_type": "stream",
     "text": [
      "('/Users/tom/Music/DataSet/test-set_cleaned/4EYV', 62)\n"
     ]
    },
    {
     "name": "stdout",
     "output_type": "stream",
     "text": [
      "('/Users/tom/Music/DataSet/test-set_cleaned/D5O0', 61)\n"
     ]
    },
    {
     "name": "stdout",
     "output_type": "stream",
     "text": [
      "('/Users/tom/Music/DataSet/test-set_cleaned/QSRU', 60)\n"
     ]
    },
    {
     "name": "stdout",
     "output_type": "stream",
     "text": [
      "('/Users/tom/Music/DataSet/test-set_cleaned/XPPN', 59)\n"
     ]
    },
    {
     "name": "stdout",
     "output_type": "stream",
     "text": [
      "('/Users/tom/Music/DataSet/test-set_cleaned/A38G', 58)\n"
     ]
    },
    {
     "name": "stdout",
     "output_type": "stream",
     "text": [
      "('/Users/tom/Music/DataSet/test-set_cleaned/YKOU', 57)\n"
     ]
    },
    {
     "name": "stdout",
     "output_type": "stream",
     "text": [
      "('/Users/tom/Music/DataSet/test-set_cleaned/98EO', 56)\n"
     ]
    },
    {
     "name": "stdout",
     "output_type": "stream",
     "text": [
      "('/Users/tom/Music/DataSet/test-set_cleaned/BRO0', 55)\n"
     ]
    },
    {
     "name": "stdout",
     "output_type": "stream",
     "text": [
      "('/Users/tom/Music/DataSet/test-set_cleaned/KZ8K', 54)\n"
     ]
    },
    {
     "name": "stdout",
     "output_type": "stream",
     "text": [
      "('/Users/tom/Music/DataSet/test-set_cleaned/NYP8', 53)\n"
     ]
    },
    {
     "name": "stdout",
     "output_type": "stream",
     "text": [
      "('/Users/tom/Music/DataSet/test-set_cleaned/9VEP', 52)\n"
     ]
    },
    {
     "name": "stdout",
     "output_type": "stream",
     "text": [
      "('/Users/tom/Music/DataSet/test-set_cleaned/9Q6U', 51)\n"
     ]
    },
    {
     "name": "stdout",
     "output_type": "stream",
     "text": [
      "('/Users/tom/Music/DataSet/test-set_cleaned/8OSI', 50)\n"
     ]
    },
    {
     "name": "stdout",
     "output_type": "stream",
     "text": [
      "('/Users/tom/Music/DataSet/test-set_cleaned/MLS2', 49)\n"
     ]
    },
    {
     "name": "stdout",
     "output_type": "stream",
     "text": [
      "('/Users/tom/Music/DataSet/test-set_cleaned/UD0Z', 48)\n"
     ]
    },
    {
     "name": "stdout",
     "output_type": "stream",
     "text": [
      "('/Users/tom/Music/DataSet/test-set_cleaned/20HE', 47)\n"
     ]
    },
    {
     "name": "stdout",
     "output_type": "stream",
     "text": [
      "('/Users/tom/Music/DataSet/test-set_cleaned/THDA', 46)\n"
     ]
    },
    {
     "name": "stdout",
     "output_type": "stream",
     "text": [
      "('/Users/tom/Music/DataSet/test-set_cleaned/SA54', 45)\n"
     ]
    },
    {
     "name": "stdout",
     "output_type": "stream",
     "text": [
      "('/Users/tom/Music/DataSet/test-set_cleaned/M7Q2', 44)\n"
     ]
    },
    {
     "name": "stdout",
     "output_type": "stream",
     "text": [
      "('/Users/tom/Music/DataSet/test-set_cleaned/OLFG', 43)\n"
     ]
    },
    {
     "name": "stdout",
     "output_type": "stream",
     "text": [
      "('/Users/tom/Music/DataSet/test-set_cleaned/F5UT', 42)\n"
     ]
    },
    {
     "name": "stdout",
     "output_type": "stream",
     "text": [
      "('/Users/tom/Music/DataSet/test-set_cleaned/14LO', 41)\n"
     ]
    },
    {
     "name": "stdout",
     "output_type": "stream",
     "text": [
      "('/Users/tom/Music/DataSet/test-set_cleaned/SE5K', 40)\n"
     ]
    },
    {
     "name": "stdout",
     "output_type": "stream",
     "text": [
      "('/Users/tom/Music/DataSet/test-set_cleaned/X3JT', 39)\n"
     ]
    },
    {
     "name": "stdout",
     "output_type": "stream",
     "text": [
      "('/Users/tom/Music/DataSet/test-set_cleaned/9U33', 38)\n"
     ]
    },
    {
     "name": "stdout",
     "output_type": "stream",
     "text": [
      "('/Users/tom/Music/DataSet/test-set_cleaned/2QXA', 37)\n"
     ]
    },
    {
     "name": "stdout",
     "output_type": "stream",
     "text": [
      "('/Users/tom/Music/DataSet/test-set_cleaned/4M0R', 36)\n"
     ]
    },
    {
     "name": "stdout",
     "output_type": "stream",
     "text": [
      "('/Users/tom/Music/DataSet/test-set_cleaned/9USQ', 35)\n"
     ]
    },
    {
     "name": "stdout",
     "output_type": "stream",
     "text": [
      "('/Users/tom/Music/DataSet/test-set_cleaned/ZJI2', 34)\n"
     ]
    },
    {
     "name": "stdout",
     "output_type": "stream",
     "text": [
      "('/Users/tom/Music/DataSet/test-set_cleaned/YR67', 33)\n"
     ]
    },
    {
     "name": "stdout",
     "output_type": "stream",
     "text": [
      "('/Users/tom/Music/DataSet/test-set_cleaned/JO55', 32)\n"
     ]
    },
    {
     "name": "stdout",
     "output_type": "stream",
     "text": [
      "('/Users/tom/Music/DataSet/test-set_cleaned/WS0R', 31)\n"
     ]
    },
    {
     "name": "stdout",
     "output_type": "stream",
     "text": [
      "('/Users/tom/Music/DataSet/test-set_cleaned/26YO', 30)\n"
     ]
    },
    {
     "name": "stdout",
     "output_type": "stream",
     "text": [
      "('/Users/tom/Music/DataSet/test-set_cleaned/BES5', 29)\n"
     ]
    },
    {
     "name": "stdout",
     "output_type": "stream",
     "text": [
      "('/Users/tom/Music/DataSet/test-set_cleaned/TZAJ', 28)\n"
     ]
    },
    {
     "name": "stdout",
     "output_type": "stream",
     "text": [
      "('/Users/tom/Music/DataSet/test-set_cleaned/CL8T', 27)\n"
     ]
    },
    {
     "name": "stdout",
     "output_type": "stream",
     "text": [
      "('/Users/tom/Music/DataSet/test-set_cleaned/16QO', 26)\n"
     ]
    },
    {
     "name": "stdout",
     "output_type": "stream",
     "text": [
      "('/Users/tom/Music/DataSet/test-set_cleaned/39WD', 25)\n"
     ]
    },
    {
     "name": "stdout",
     "output_type": "stream",
     "text": [
      "('/Users/tom/Music/DataSet/test-set_cleaned/7S23', 24)\n"
     ]
    },
    {
     "name": "stdout",
     "output_type": "stream",
     "text": [
      "('/Users/tom/Music/DataSet/test-set_cleaned/3KFO', 23)\n"
     ]
    },
    {
     "name": "stdout",
     "output_type": "stream",
     "text": [
      "('/Users/tom/Music/DataSet/test-set_cleaned/ENGG', 22)\n"
     ]
    },
    {
     "name": "stdout",
     "output_type": "stream",
     "text": [
      "('/Users/tom/Music/DataSet/test-set_cleaned/8OK9', 21)\n"
     ]
    },
    {
     "name": "stdout",
     "output_type": "stream",
     "text": [
      "('/Users/tom/Music/DataSet/test-set_cleaned/WEND', 20)\n"
     ]
    },
    {
     "name": "stdout",
     "output_type": "stream",
     "text": [
      "('/Users/tom/Music/DataSet/test-set_cleaned/QCTR', 19)\n"
     ]
    },
    {
     "name": "stdout",
     "output_type": "stream",
     "text": [
      "('/Users/tom/Music/DataSet/test-set_cleaned/6XU0', 18)\n"
     ]
    },
    {
     "name": "stdout",
     "output_type": "stream",
     "text": [
      "('/Users/tom/Music/DataSet/test-set_cleaned/J2XX', 17)\n"
     ]
    },
    {
     "name": "stdout",
     "output_type": "stream",
     "text": [
      "('/Users/tom/Music/DataSet/test-set_cleaned/1BOD', 16)\n"
     ]
    },
    {
     "name": "stdout",
     "output_type": "stream",
     "text": [
      "('/Users/tom/Music/DataSet/test-set_cleaned/R87G', 15)\n"
     ]
    },
    {
     "name": "stdout",
     "output_type": "stream",
     "text": [
      "('/Users/tom/Music/DataSet/test-set_cleaned/Y9F5', 14)\n"
     ]
    },
    {
     "name": "stdout",
     "output_type": "stream",
     "text": [
      "('/Users/tom/Music/DataSet/test-set_cleaned/OMAJ', 13)\n"
     ]
    },
    {
     "name": "stdout",
     "output_type": "stream",
     "text": [
      "('/Users/tom/Music/DataSet/test-set_cleaned/DJVH', 12)\n"
     ]
    },
    {
     "name": "stdout",
     "output_type": "stream",
     "text": [
      "('/Users/tom/Music/DataSet/test-set_cleaned/92X5', 11)\n"
     ]
    },
    {
     "name": "stdout",
     "output_type": "stream",
     "text": [
      "('/Users/tom/Music/DataSet/test-set_cleaned/EHAO', 10)\n"
     ]
    },
    {
     "name": "stdout",
     "output_type": "stream",
     "text": [
      "('/Users/tom/Music/DataSet/test-set_cleaned/JHIK', 9)\n"
     ]
    },
    {
     "name": "stdout",
     "output_type": "stream",
     "text": [
      "('/Users/tom/Music/DataSet/test-set_cleaned/8J28', 8)\n"
     ]
    },
    {
     "name": "stdout",
     "output_type": "stream",
     "text": [
      "('/Users/tom/Music/DataSet/test-set_cleaned/ROPI', 7)\n"
     ]
    },
    {
     "name": "stdout",
     "output_type": "stream",
     "text": [
      "('/Users/tom/Music/DataSet/test-set_cleaned/CTLD', 6)\n"
     ]
    },
    {
     "name": "stdout",
     "output_type": "stream",
     "text": [
      "('/Users/tom/Music/DataSet/test-set_cleaned/LWTY', 5)\n"
     ]
    },
    {
     "name": "stdout",
     "output_type": "stream",
     "text": [
      "('/Users/tom/Music/DataSet/test-set_cleaned/T31B', 4)\n"
     ]
    },
    {
     "name": "stdout",
     "output_type": "stream",
     "text": [
      "('/Users/tom/Music/DataSet/test-set_cleaned/ZTXZ', 3)\n"
     ]
    },
    {
     "name": "stdout",
     "output_type": "stream",
     "text": [
      "('/Users/tom/Music/DataSet/test-set_cleaned/HY1S', 2)\n"
     ]
    },
    {
     "name": "stdout",
     "output_type": "stream",
     "text": [
      "('/Users/tom/Music/DataSet/test-set_cleaned/YLGX', 1)\n"
     ]
    }
   ],
   "source": [
    "est_base_dir = '/Users/tom/Music/DataSet/test-set_cleaned/'\n",
    "ref_dir = '/Users/tom/Music/DataSet/test-set_man'\n",
    "est_dir_list = get_dir_list(base_dir)\n",
    "\n",
    "output = []\n",
    "len_todo = len(est_dir_list)\n",
    "for est_dir in est_dir_list:\n",
    "    print(est_dir, len_todo)\n",
    "    s = dir_to_score(ref_dir, est_dir)\n",
    "    param_path = os.path.join(est_dir, 'param.json')\n",
    "    with open(param_path, 'r') as stream:\n",
    "        param = json.load(stream)\n",
    "    output.append([s, param])\n",
    "    len_todo -= 1"
   ]
  },
  {
   "cell_type": "code",
   "execution_count": 60,
   "metadata": {
    "collapsed": false
   },
   "outputs": [
    {
     "data": {
      "image/png": "[encoded data removed]",
      "text/plain": [
       "<matplotlib.figure.Figure at 0x1142ceed0>"
      ]
     },
     "metadata": {},
     "output_type": "display_data"
    }
   ],
   "source": [
    "plt.figure()\n",
    "for pair in output:\n",
    "    scores = pair[0]\n",
    "    param = pair[1]\n",
    "    plt.scatter(param['prunethresh'], scores['F-measure_no_offset'])\n",
    "plt.show()"
   ]
  },
  {
   "cell_type": "code",
   "execution_count": 61,
   "metadata": {},
   "outputs": [
    {
     "data": {
      "image/png": "[encoded data removed]",
      "text/plain": [
       "<matplotlib.figure.Figure at 0x110ea0d90>"
      ]
     },
     "metadata": {},
     "output_type": "display_data"
    }
   ],
   "source": [
    "plt.figure()\n",
    "for pair in output:\n",
    "    scores = pair[0]\n",
    "    param = pair[1]\n",
    "    plt.scatter(param['prunethresh'], scores['Recall_no_offset'])\n",
    "plt.show()\n"
   ]
  },
  {
   "cell_type": "code",
   "execution_count": 62,
   "metadata": {
    "collapsed": true
   },
   "outputs": [
    {
     "data": {
      "image/png": "[encoded data removed]",
      "text/plain": [
       "<matplotlib.figure.Figure at 0x110a69b50>"
      ]
     },
     "metadata": {},
     "output_type": "display_data"
    }
   ],
   "source": [
    "plt.figure()\n",
    "for pair in output:\n",
    "    scores = pair[0]\n",
    "    param = pair[1]\n",
    "    plt.scatter(param['lowampsuppression'], scores['F-measure_no_offset'])\n",
    "plt.show()\n"
   ]
  },
  {
   "cell_type": "code",
   "execution_count": 63,
   "metadata": {},
   "outputs": [
    {
     "data": {
      "image/png": "[encoded data removed]",
      "text/plain": [
       "<matplotlib.figure.Figure at 0x11137acd0>"
      ]
     },
     "metadata": {},
     "output_type": "display_data"
    }
   ],
   "source": [
    "plt.figure()\n",
    "for pair in output:\n",
    "    scores = pair[0]\n",
    "    param = pair[1]\n",
    "    plt.scatter(param['lowampsuppression'], scores['Recall_no_offset'])\n",
    "plt.show()\n"
   ]
  },
  {
   "cell_type": "code",
   "execution_count": 64,
   "metadata": {},
   "outputs": [
    {
     "data": {
      "image/png": "[encoded data removed]",
      "text/plain": [
       "<matplotlib.figure.Figure at 0x1147f30d0>"
      ]
     },
     "metadata": {},
     "output_type": "display_data"
    }
   ],
   "source": [
    "plt.figure()\n",
    "for pair in output:\n",
    "    scores = pair[0]\n",
    "    param = pair[1]\n",
    "    plt.scatter(param['onsetsensitivity'], scores['F-measure_no_offset'])\n",
    "plt.show()"
   ]
  },
  {
   "cell_type": "code",
   "execution_count": 65,
   "metadata": {},
   "outputs": [
    {
     "data": {
      "image/png": "[encoded data removed]",
      "text/plain": [
       "<matplotlib.figure.Figure at 0x111ebfad0>"
      ]
     },
     "metadata": {},
     "output_type": "display_data"
    }
   ],
   "source": [
    "plt.figure()\n",
    "for pair in output:\n",
    "    scores = pair[0]\n",
    "    param = pair[1]\n",
    "    plt.scatter(param['onsetsensitivity'], scores['Recall_no_offset'])\n",
    "plt.show()"
   ]
  },
  {
   "cell_type": "code",
   "execution_count": null,
   "metadata": {},
   "outputs": [],
   "source": []
  }
 ],
 "metadata": {
  "anaconda-cloud": {},
  "kernelspec": {
   "display_name": "Python [conda root]",
   "language": "python",
   "name": "conda-root-py"
  },
  "language_info": {
   "codemirror_mode": {
    "name": "ipython",
    "version": 2
   },
   "file_extension": ".py",
   "mimetype": "text/x-python",
   "name": "python",
   "nbconvert_exporter": "python",
   "pygments_lexer": "ipython2",
   "version": "2.7.12"
  }
 },
 "nbformat": 4,
 "nbformat_minor": 2
}
