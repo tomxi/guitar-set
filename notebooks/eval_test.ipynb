{
 "cells": [
  {
   "cell_type": "code",
   "execution_count": 9,
   "metadata": {
    "collapsed": true
   },
   "outputs": [],
   "source": [
    "import jams\n",
    "import mir_eval\n",
    "\n",
    "man_path = '/Users/tom/Music/DataSet/test_set_annotated1/js_SS2-107-Ab_c_man.jams'\n",
    "auto_path = '/Users/tom/Music/DataSet/test_set_cleaned2/js_SS2-107-Ab_hex_comp_cleaned.jams'\n",
    "\n",
    "man_jam = jams.load(man_path)\n",
    "auto_jam = jams.load(auto_path)\n",
    "\n"
   ]
  },
  {
   "cell_type": "code",
   "execution_count": 15,
   "metadata": {},
   "outputs": [
    {
     "name": "stdout",
     "output_type": "stream",
     "text": [
      "OrderedDict([('Voicing Recall', 0.95454545454545459), ('Voicing False Alarm', 0.0), ('Raw Pitch Accuracy', 0.90909090909090906), ('Raw Chroma Accuracy', 0.90909090909090906), ('Overall Accuracy', 0.90909090909090906)])\n",
      "()\n",
      "OrderedDict([('Voicing Recall', 1.0), ('Voicing False Alarm', 0.0), ('Raw Pitch Accuracy', 0.73333333333333328), ('Raw Chroma Accuracy', 0.73333333333333328), ('Overall Accuracy', 0.73333333333333328)])\n",
      "()\n",
      "OrderedDict([('Voicing Recall', 0.98529411764705888), ('Voicing False Alarm', 0.0), ('Raw Pitch Accuracy', 0.57352941176470584), ('Raw Chroma Accuracy', 0.57352941176470584), ('Overall Accuracy', 0.57352941176470584)])\n",
      "()\n",
      "OrderedDict([('Voicing Recall', 1.0), ('Voicing False Alarm', 0.0), ('Raw Pitch Accuracy', 0.63157894736842102), ('Raw Chroma Accuracy', 0.63157894736842102), ('Overall Accuracy', 0.63157894736842102)])\n",
      "()\n",
      "OrderedDict([('Voicing Recall', 0.98333333333333328), ('Voicing False Alarm', 0.0), ('Raw Pitch Accuracy', 0.98333333333333328), ('Raw Chroma Accuracy', 1.0), ('Overall Accuracy', 0.98333333333333328)])\n",
      "()\n",
      "OrderedDict([('Voicing Recall', 0.83333333333333337), ('Voicing False Alarm', 0.0), ('Raw Pitch Accuracy', 0.16666666666666666), ('Raw Chroma Accuracy', 0.16666666666666666), ('Overall Accuracy', 0.16666666666666666)])\n",
      "()\n"
     ]
    }
   ],
   "source": [
    "# first annotation\n",
    "scores_list = []\n",
    "for i in range(6):\n",
    "    man_ann = man_jam.search(namespace='pitch_midi')[i]\n",
    "    auto_ann = auto_jam.search(namespace='pitch_midi')[i]\n",
    "    score = jams.eval.melody(man_ann, auto_ann)\n",
    "    print(score)\n",
    "    print()\n",
    "    scores_list.append(score)\n",
    "    "
   ]
  },
  {
   "cell_type": "code",
   "execution_count": 11,
   "metadata": {},
   "outputs": [
    {
     "data": {
      "text/plain": [
       "OrderedDict([('Voicing Recall', 0.95454545454545459),\n",
       "             ('Voicing False Alarm', 0.0),\n",
       "             ('Raw Pitch Accuracy', 0.90909090909090906),\n",
       "             ('Raw Chroma Accuracy', 0.90909090909090906),\n",
       "             ('Overall Accuracy', 0.90909090909090906)])"
      ]
     },
     "execution_count": 11,
     "metadata": {},
     "output_type": "execute_result"
    }
   ],
   "source": [
    "scores"
   ]
  },
  {
   "cell_type": "code",
   "execution_count": null,
   "metadata": {
    "collapsed": true
   },
   "outputs": [],
   "source": []
  }
 ],
 "metadata": {
  "anaconda-cloud": {},
  "kernelspec": {
   "display_name": "Python [conda root]",
   "language": "python",
   "name": "conda-root-py"
  },
  "language_info": {
   "codemirror_mode": {
    "name": "ipython",
    "version": 2
   },
   "file_extension": ".py",
   "mimetype": "text/x-python",
   "name": "python",
   "nbconvert_exporter": "python",
   "pygments_lexer": "ipython2",
   "version": "2.7.12"
  }
 },
 "nbformat": 4,
 "nbformat_minor": 2
}
