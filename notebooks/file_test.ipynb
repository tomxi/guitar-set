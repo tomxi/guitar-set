{
 "cells": [
  {
   "cell_type": "code",
   "execution_count": 2,
   "metadata": {
    "collapsed": true
   },
   "outputs": [],
   "source": [
    "import glob \n",
    "base_dir = '/Users/tom/Music/DataSet/guitar_set/ed/'\n",
    "format_str = '*hex.wav'\n",
    "input_paths = glob.glob( base_dir+format_str )"
   ]
  },
  {
   "cell_type": "code",
   "execution_count": 3,
   "metadata": {},
   "outputs": [
    {
     "data": {
      "text/plain": [
       "['/Users/tom/Music/DataSet/guitar_set/ed/ed_BN1-129-Eb_comp_hex.wav',\n",
       " '/Users/tom/Music/DataSet/guitar_set/ed/ed_BN1-129-Eb_solo_hex.wav',\n",
       " '/Users/tom/Music/DataSet/guitar_set/ed/ed_BN1-147-Gb_comp_hex.wav',\n",
       " '/Users/tom/Music/DataSet/guitar_set/ed/ed_BN1-147-Gb_solo_hex.wav',\n",
       " '/Users/tom/Music/DataSet/guitar_set/ed/ed_BN2-131-B_comp_hex.wav',\n",
       " '/Users/tom/Music/DataSet/guitar_set/ed/ed_BN2-131-B_solo_hex.wav',\n",
       " '/Users/tom/Music/DataSet/guitar_set/ed/ed_BN2-166-Ab_comp_hex.wav',\n",
       " '/Users/tom/Music/DataSet/guitar_set/ed/ed_BN2-166-Ab_solo_hex.wav',\n",
       " '/Users/tom/Music/DataSet/guitar_set/ed/ed_BN3-119-G_comp_hex.wav',\n",
       " '/Users/tom/Music/DataSet/guitar_set/ed/ed_BN3-119-G_solo_hex.wav',\n",
       " '/Users/tom/Music/DataSet/guitar_set/ed/ed_BN3-154-E_comp_hex.wav',\n",
       " '/Users/tom/Music/DataSet/guitar_set/ed/ed_BN3-154-E_solo_hex.wav',\n",
       " '/Users/tom/Music/DataSet/guitar_set/ed/ed_Funk1-114-Ab_comp_hex.wav',\n",
       " '/Users/tom/Music/DataSet/guitar_set/ed/ed_Funk1-114-Ab_solo_hex.wav',\n",
       " '/Users/tom/Music/DataSet/guitar_set/ed/ed_Funk1-97-C_comp_hex.wav',\n",
       " '/Users/tom/Music/DataSet/guitar_set/ed/ed_Funk1-97-C_solo_hex.wav',\n",
       " '/Users/tom/Music/DataSet/guitar_set/ed/ed_Funk2-108-Eb_comp_hex.wav',\n",
       " '/Users/tom/Music/DataSet/guitar_set/ed/ed_Funk2-108-Eb_solo_hex.wav',\n",
       " '/Users/tom/Music/DataSet/guitar_set/ed/ed_Funk2-119-G_comp_hex.wav',\n",
       " '/Users/tom/Music/DataSet/guitar_set/ed/ed_Funk2-119-G_solo_hex.wav',\n",
       " '/Users/tom/Music/DataSet/guitar_set/ed/ed_Funk3-112-C#_comp_hex.wav',\n",
       " '/Users/tom/Music/DataSet/guitar_set/ed/ed_Funk3-112-C#_solo_hex.wav',\n",
       " '/Users/tom/Music/DataSet/guitar_set/ed/ed_Funk3-98-A_comp_hex.wav',\n",
       " '/Users/tom/Music/DataSet/guitar_set/ed/ed_Funk3-98-A_solo_hex.wav',\n",
       " '/Users/tom/Music/DataSet/guitar_set/ed/ed_Jazz1-130-D_comp_hex.wav',\n",
       " '/Users/tom/Music/DataSet/guitar_set/ed/ed_Jazz1-130-D_solo_hex.wav',\n",
       " '/Users/tom/Music/DataSet/guitar_set/ed/ed_Jazz1-200-B_comp_hex.wav',\n",
       " '/Users/tom/Music/DataSet/guitar_set/ed/ed_Jazz1-200-B_solo_hex.wav',\n",
       " '/Users/tom/Music/DataSet/guitar_set/ed/ed_Jazz2-110-Bb_comp_hex.wav',\n",
       " '/Users/tom/Music/DataSet/guitar_set/ed/ed_Jazz2-110-Bb_solo_hex.wav',\n",
       " '/Users/tom/Music/DataSet/guitar_set/ed/ed_Jazz2-187-F#_comp_hex.wav',\n",
       " '/Users/tom/Music/DataSet/guitar_set/ed/ed_Jazz2-187-F#_solo_hex.wav',\n",
       " '/Users/tom/Music/DataSet/guitar_set/ed/ed_Jazz3-137-Eb_comp_hex.wav',\n",
       " '/Users/tom/Music/DataSet/guitar_set/ed/ed_Jazz3-137-Eb_solo_hex.wav',\n",
       " '/Users/tom/Music/DataSet/guitar_set/ed/ed_Jazz3-150-C_comp_hex.wav',\n",
       " '/Users/tom/Music/DataSet/guitar_set/ed/ed_Jazz3-150-C_solo_hex.wav',\n",
       " '/Users/tom/Music/DataSet/guitar_set/ed/ed_Rock1-130-A_comp_hex.wav',\n",
       " '/Users/tom/Music/DataSet/guitar_set/ed/ed_Rock1-130-A_solo_hex.wav',\n",
       " '/Users/tom/Music/DataSet/guitar_set/ed/ed_Rock1-90-C#_comp_hex.wav',\n",
       " '/Users/tom/Music/DataSet/guitar_set/ed/ed_Rock1-90-C#_solo_hex.wav',\n",
       " '/Users/tom/Music/DataSet/guitar_set/ed/ed_Rock2-142-D_comp_hex.wav',\n",
       " '/Users/tom/Music/DataSet/guitar_set/ed/ed_Rock2-142-D_solo_hex.wav',\n",
       " '/Users/tom/Music/DataSet/guitar_set/ed/ed_Rock2-85-F_comp_hex.wav',\n",
       " '/Users/tom/Music/DataSet/guitar_set/ed/ed_Rock2-85-F_solo_hex.wav',\n",
       " '/Users/tom/Music/DataSet/guitar_set/ed/ed_Rock3-117-Bb_comp_hex.wav',\n",
       " '/Users/tom/Music/DataSet/guitar_set/ed/ed_Rock3-117-Bb_solo_hex.wav',\n",
       " '/Users/tom/Music/DataSet/guitar_set/ed/ed_Rock3-148-C_comp_hex.wav',\n",
       " '/Users/tom/Music/DataSet/guitar_set/ed/ed_Rock3-148-C_solo_hex.wav',\n",
       " '/Users/tom/Music/DataSet/guitar_set/ed/ed_SS1-100-C#_comp_hex.wav',\n",
       " '/Users/tom/Music/DataSet/guitar_set/ed/ed_SS1-100-C#_solo_hex.wav',\n",
       " '/Users/tom/Music/DataSet/guitar_set/ed/ed_SS1-68-E_comp_hex.wav',\n",
       " '/Users/tom/Music/DataSet/guitar_set/ed/ed_SS1-68-E_solo_hex.wav',\n",
       " '/Users/tom/Music/DataSet/guitar_set/ed/ed_SS2-107-Ab_comp_hex.wav',\n",
       " '/Users/tom/Music/DataSet/guitar_set/ed/ed_SS2-107-Ab_solo_hex.wav',\n",
       " '/Users/tom/Music/DataSet/guitar_set/ed/ed_SS2-88-F_comp_hex.wav',\n",
       " '/Users/tom/Music/DataSet/guitar_set/ed/ed_SS2-88-F_solo_hex.wav',\n",
       " '/Users/tom/Music/DataSet/guitar_set/ed/ed_SS3-84-Bb_comp_hex.wav',\n",
       " '/Users/tom/Music/DataSet/guitar_set/ed/ed_SS3-84-Bb_solo_hex.wav',\n",
       " '/Users/tom/Music/DataSet/guitar_set/ed/ed_SS3-98-C_comp_hex.wav',\n",
       " '/Users/tom/Music/DataSet/guitar_set/ed/ed_SS3-98-C_solo_hex.wav']"
      ]
     },
     "execution_count": 3,
     "metadata": {},
     "output_type": "execute_result"
    }
   ],
   "source": [
    "input_paths"
   ]
  },
  {
   "cell_type": "code",
   "execution_count": 4,
   "metadata": {},
   "outputs": [
    {
     "data": {
      "text/plain": [
       "('/Users/tom/Music/DataSet/guitar_set/ed', 'ed_BN1-129-Eb_comp_hex.wav')"
      ]
     },
     "execution_count": 4,
     "metadata": {},
     "output_type": "execute_result"
    }
   ],
   "source": [
    "import os\n",
    "a_path = '/Users/tom/Music/DataSet/guitar_set/ed/ed_BN1-129-Eb_comp_hex.wav'\n",
    "a_dir = os.path.split(a_path)\n",
    "a_dir"
   ]
  },
  {
   "cell_type": "code",
   "execution_count": null,
   "metadata": {
    "collapsed": true
   },
   "outputs": [],
   "source": []
  }
 ],
 "metadata": {
  "anaconda-cloud": {},
  "kernelspec": {
   "display_name": "Python [default]",
   "language": "python",
   "name": "python2"
  },
  "language_info": {
   "codemirror_mode": {
    "name": "ipython",
    "version": 2
   },
   "file_extension": ".py",
   "mimetype": "text/x-python",
   "name": "python",
   "nbconvert_exporter": "python",
   "pygments_lexer": "ipython2",
   "version": "2.7.12"
  }
 },
 "nbformat": 4,
 "nbformat_minor": 1
}
