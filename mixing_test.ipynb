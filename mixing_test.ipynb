{
 "cells": [
  {
   "cell_type": "code",
   "execution_count": 5,
   "metadata": {},
   "outputs": [],
   "source": [
    "import numpy as np\n",
    "from scipy.optimize import minimize\n",
    "import scipy.signal\n",
    "import librosa\n",
    "import os\n",
    "import sox\n",
    "import tempfile\n",
    "import shutil\n",
    "import matplotlib.pyplot as plt\n",
    "\n",
    "%matplotlib inline\n",
    "\n",
    "def get_feature_audio(filename):\n",
    "    sr = 8192\n",
    "    y, fs = librosa.load(filename, mono=True, sr=sr)\n",
    "    feature = y ** 2.0\n",
    "    max_feature = np.max(feature)\n",
    "    voiced = 1\n",
    "    if max_feature < 0.0005:\n",
    "        voiced = 0\n",
    "        \n",
    "    \n",
    "    return feature, voiced\n",
    "\n",
    "\n",
    "def linear_model(x, A, y):\n",
    "    return np.linalg.norm(np.dot(A, x) - y, ord=2)\n",
    "\n",
    "def hex_to_stem_list(hex_file):\n",
    "    temp_path = tempfile.mkdtemp() + '/'\n",
    "\n",
    "    output_mapping = {'0': {1: [1]},\n",
    "                      '1': {1: [2]},\n",
    "                      '2': {1: [3]},\n",
    "                      '3': {1: [4]},\n",
    "                      '4': {1: [5]},\n",
    "                      '5': {1: [6]}\n",
    "                      }\n",
    "    stem_files = []\n",
    "    for mix_type in ['0', '1', '2', '3', '4', '5']:\n",
    "        tfm = sox.Transformer()\n",
    "        tfm.remix(remix_dictionary=output_mapping[mix_type])\n",
    "        output_path = os.path.join(temp_path, '{}.wav'.format(mix_type))\n",
    "        stem_files.append(output_path)\n",
    "        tfm.build(hex_file, output_path)\n",
    "    return stem_files, temp_path # a list of stem file names.\n",
    "\n",
    "def analyze_mix_audio(mix_file, stem_files):\n",
    "    mix_audio, voiced = get_feature_audio(mix_file)\n",
    "    win_len = 4096\n",
    "    stem_audio_list = []\n",
    "    voiced_list = []\n",
    "    for stem_path in stem_files:\n",
    "        y, voiced = get_feature_audio(stem_path)\n",
    "        stem_audio_list.append(y*voiced)\n",
    "        if not voiced:\n",
    "            print('unvoiced')\n",
    "        voiced_list.append(voiced)\n",
    "    \n",
    "    stem_audio = np.array(stem_audio_list)\n",
    "    n_stems = stem_audio.shape[0]\n",
    "    stem_indices = range(n_stems)\n",
    "    # force weights to be between 0 and 10\n",
    "    bounds = tuple([(0, 10.0) for _ in range(n_stems)])\n",
    "    res = minimize(\n",
    "        linear_model, x0=np.ones((n_stems,)), args=(stem_audio.T, mix_audio.T),\n",
    "        bounds=bounds\n",
    "    )\n",
    "    coefs = res['x']\n",
    "\n",
    "    mixing_coeffs = {\n",
    "        int(i): float(c) for i, c in zip(stem_indices, coefs)\n",
    "    }\n",
    "    return mixing_coeffs, voiced_list\n",
    "\n",
    "def mix_stem(mixing_coeffs, stem_files, output_file, voiced_list):\n",
    "    remix_dict = {k: [v] for (k, v) in zip(range(1,7), range(1,7))}\n",
    "    gain_list = mixing_coeffs.values()\n",
    "    gain_list = list(np.array(gain_list) * np.array(voiced_list))\n",
    "    print(gain_list)\n",
    "    \n",
    "    cbn = sox.Combiner()\n",
    "    cbn.remix(remix_dictionary=remix_dict)\n",
    "    cbn.gain(normalize=True)\n",
    "    cbn.build(stem_files, output_file, input_volumes=gain_list, combine_type='merge')\n",
    "        \n",
    "\n",
    "def run(mix_file, hex_file, output_file, normalized):\n",
    "    stem_files, temp_path = hex_to_stem_list(hex_file)\n",
    "    mixing_coeffs, voiced_list = analyze_mix_audio(mix_file, stem_files)\n",
    "    mix_stem(mixing_coeffs, stem_files, output_file, voiced_list)\n",
    "    shutil.rmtree(temp_path)\n",
    "#     normalize_hex(output_file, normalized)\n"
   ]
  },
  {
   "cell_type": "code",
   "execution_count": 6,
   "metadata": {
    "collapsed": true
   },
   "outputs": [],
   "source": [
    "def track_energy(wave, win_len, win):\n",
    "    \"\"\"Compute the energy of an audio signal\n",
    "\n",
    "    Parameters\n",
    "    ----------\n",
    "    wave : np.array\n",
    "        The signal from which to compute energy\n",
    "    win_len: int\n",
    "        The number of samples to use in energy computation\n",
    "    win : np.array\n",
    "        The windowing function to use in energy computation\n",
    "\n",
    "    Returns\n",
    "    -------\n",
    "    energy : np.array\n",
    "        Array of track energy\n",
    "\n",
    "    \"\"\"\n",
    "    hop_len = win_len // 2\n",
    "\n",
    "    wave = np.lib.pad(\n",
    "        wave, pad_width=(win_len - hop_len, 0), mode='constant',\n",
    "        constant_values=0\n",
    "    )\n",
    "\n",
    "    # post padding\n",
    "    wave = librosa.util.fix_length(\n",
    "        wave, int(win_len * np.ceil(len(wave) / win_len))\n",
    "    )\n",
    "\n",
    "    # cut into frames\n",
    "    wavmat = librosa.util.frame(wave, frame_length=win_len, hop_length=hop_len)\n",
    "\n",
    "    # Envelope follower\n",
    "    wavmat = hwr(wavmat) ** 0.5  # half-wave rectification + compression\n",
    "\n",
    "    return np.mean((wavmat.T * win), axis=1)\n",
    "\n",
    "\n",
    "def hwr(x):\n",
    "    \"\"\" Half-wave rectification.\n",
    "\n",
    "    Parameters\n",
    "    ----------\n",
    "    x : array-like\n",
    "        Array to half-wave rectify\n",
    "\n",
    "    Returns\n",
    "    -------\n",
    "    x_hwr : array-like\n",
    "        Half-wave rectified array\n",
    "\n",
    "    \"\"\"\n",
    "    return (x + np.abs(x)) / 2"
   ]
  },
  {
   "cell_type": "code",
   "execution_count": 7,
   "metadata": {},
   "outputs": [],
   "source": [
    "base_dir_mix = '/Users/tom/Music/DataSet/test_set_ref/'\n",
    "mix_list = [os.path.join(base_dir_mix, f) for f in os.listdir(base_dir_mix) if f.endswith(\".wav\")]\n",
    "\n",
    "base_dir_hex = '/Users/tom/Music/DataSet/test_set_cleaned2/'\n",
    "hex_list = [os.path.join(base_dir_hex, f) for f in os.listdir(base_dir_hex) if f.endswith(\".wav\")]\n",
    "\n",
    "base_dir_out = '/Users/tom/Music/DataSet/test_set_gained3/'\n",
    "out_list = [os.path.join(base_dir_out, f.split('.')[0]+'_gained.wav') for f in os.listdir(base_dir_hex) if f.endswith(\".wav\")]\n",
    "\n",
    "normalized_list = [f.split('.')[0]+'_normalized.wav' for f in out_list]\n"
   ]
  },
  {
   "cell_type": "code",
   "execution_count": 8,
   "metadata": {},
   "outputs": [
    {
     "name": "stdout",
     "output_type": "stream",
     "text": [
      "/Users/tom/Music/DataSet/test_set_ref/eh_BN1-129-Eb_mic_comp.wav\n",
      "unvoiced\n",
      "unvoiced\n"
     ]
    },
    {
     "name": "stderr",
     "output_type": "stream",
     "text": [
      "WARNING:root:output_file: /Users/tom/Music/DataSet/test_set_gained3/eh_BN1-129-Eb_hex_comp_cleaned_gained.wav already exists and will be overwritten on build\n",
      "WARNING:root:Input formats were only specified for 0 out of 6 files.The last 6 files will remain unformatted.\n"
     ]
    },
    {
     "name": "stdout",
     "output_type": "stream",
     "text": [
      "[4.1077378066831898, 4.7294065066376367, 3.8919206912441022, 1.1764851855540359, 0.0, 0.0]\n",
      "/Users/tom/Music/DataSet/test_set_ref/eh_BN1-129-Eb_mic_solo.wav\n",
      "unvoiced\n",
      "unvoiced\n",
      "unvoiced\n"
     ]
    },
    {
     "name": "stderr",
     "output_type": "stream",
     "text": [
      "WARNING:root:output_file: /Users/tom/Music/DataSet/test_set_gained3/eh_BN1-129-Eb_hex_solo_cleaned_gained.wav already exists and will be overwritten on build\n",
      "WARNING:root:Input formats were only specified for 0 out of 6 files.The last 6 files will remain unformatted.\n"
     ]
    },
    {
     "name": "stdout",
     "output_type": "stream",
     "text": [
      "[0.0, 0.40379564661032596, 0.6253629361524079, 0.22688155521898584, 0.0, 0.0]\n",
      "/Users/tom/Music/DataSet/test_set_ref/jf_Funk3-112-C#_mic_comp.wav\n",
      "unvoiced\n"
     ]
    },
    {
     "name": "stderr",
     "output_type": "stream",
     "text": [
      "WARNING:root:output_file: /Users/tom/Music/DataSet/test_set_gained3/jf_Funk3-112-C#_hex_comp_cleaned_gained.wav already exists and will be overwritten on build\n",
      "WARNING:root:Input formats were only specified for 0 out of 6 files.The last 6 files will remain unformatted.\n"
     ]
    },
    {
     "name": "stdout",
     "output_type": "stream",
     "text": [
      "[0.0, 0.1764492786019419, 0.19397988876274694, 0.099710802062194862, 0.10162058598472318, 0.21007482572327199]\n",
      "/Users/tom/Music/DataSet/test_set_ref/jf_Funk3-112-C#_mic_solo.wav\n",
      "unvoiced\n"
     ]
    },
    {
     "name": "stderr",
     "output_type": "stream",
     "text": [
      "WARNING:root:output_file: /Users/tom/Music/DataSet/test_set_gained3/jf_Funk3-112-C#_hex_solo_cleaned_gained.wav already exists and will be overwritten on build\n",
      "WARNING:root:Input formats were only specified for 0 out of 6 files.The last 6 files will remain unformatted.\n"
     ]
    },
    {
     "name": "stdout",
     "output_type": "stream",
     "text": [
      "[0.0, 1.5113976455012417, 1.8697324678340783, 0.62723129176374992, 0.13951840877399135, 0.48658014514707509]\n",
      "/Users/tom/Music/DataSet/test_set_ref/js_SS2-107-Ab_mic_comp.wav\n"
     ]
    },
    {
     "name": "stderr",
     "output_type": "stream",
     "text": [
      "WARNING:root:output_file: /Users/tom/Music/DataSet/test_set_gained3/js_SS2-107-Ab_hex_comp_cleaned_gained.wav already exists and will be overwritten on build\n",
      "WARNING:root:Input formats were only specified for 0 out of 6 files.The last 6 files will remain unformatted.\n"
     ]
    },
    {
     "name": "stdout",
     "output_type": "stream",
     "text": [
      "[0.19011408709686869, 0.3585622885470014, 0.31003495772637008, 0.26049461001489849, 0.18135763623379741, 0.44901833971025507]\n",
      "/Users/tom/Music/DataSet/test_set_ref/js_SS2-107-Ab_mic_solo.wav\n",
      "unvoiced\n",
      "unvoiced\n",
      "unvoiced\n"
     ]
    },
    {
     "name": "stderr",
     "output_type": "stream",
     "text": [
      "WARNING:root:output_file: /Users/tom/Music/DataSet/test_set_gained3/js_SS2-107-Ab_hex_solo_cleaned_gained.wav already exists and will be overwritten on build\n",
      "WARNING:root:Input formats were only specified for 0 out of 6 files.The last 6 files will remain unformatted.\n"
     ]
    },
    {
     "name": "stdout",
     "output_type": "stream",
     "text": [
      "[0.0, 0.0, 0.89083034544848705, 0.20416363318996947, 0.28268712473321589, 0.0]\n",
      "/Users/tom/Music/DataSet/test_set_ref/vl_Jazz2-110-Bb_mic_comp.wav\n"
     ]
    },
    {
     "name": "stderr",
     "output_type": "stream",
     "text": [
      "WARNING:root:output_file: /Users/tom/Music/DataSet/test_set_gained3/vl_Jazz2-110-Bb_hex_comp_cleaned_gained.wav already exists and will be overwritten on build\n",
      "WARNING:root:Input formats were only specified for 0 out of 6 files.The last 6 files will remain unformatted.\n"
     ]
    },
    {
     "name": "stdout",
     "output_type": "stream",
     "text": [
      "[2.713971229468251, 2.2077506048561371, 5.4477928959309523, 3.0339279105756791, 0.35063862853932254, 2.4333734426891418]\n",
      "/Users/tom/Music/DataSet/test_set_ref/vl_Jazz2-110-Bb_mic_solo.wav\n",
      "unvoiced\n",
      "unvoiced\n"
     ]
    },
    {
     "name": "stderr",
     "output_type": "stream",
     "text": [
      "WARNING:root:output_file: /Users/tom/Music/DataSet/test_set_gained3/vl_Jazz2-110-Bb_hex_solo_cleaned_gained.wav already exists and will be overwritten on build\n",
      "WARNING:root:Input formats were only specified for 0 out of 6 files.The last 6 files will remain unformatted.\n"
     ]
    },
    {
     "name": "stdout",
     "output_type": "stream",
     "text": [
      "[0.0, 0.0, 10.0, 2.5166657317484451, 0.069041769034387121, 0.21476569422306105]\n"
     ]
    }
   ],
   "source": [
    "for m, h, o, n in zip(mix_list, hex_list, out_list, normalized_list):\n",
    "    print(m)\n",
    "    run(m, h, o, n)"
   ]
  },
  {
   "cell_type": "code",
   "execution_count": null,
   "metadata": {},
   "outputs": [],
   "source": [
    "mat = np.array([[1,2,3]]) * np.array([[1],[0],[1]])"
   ]
  },
  {
   "cell_type": "code",
   "execution_count": 35,
   "metadata": {},
   "outputs": [
    {
     "name": "stdout",
     "output_type": "stream",
     "text": [
      "[1 2 3]\n",
      "[0 0 0]\n",
      "[1 2 3]\n"
     ]
    }
   ],
   "source": [
    "for row in mat:\n",
    "    print(row)"
   ]
  },
  {
   "cell_type": "code",
   "execution_count": null,
   "metadata": {
    "collapsed": true
   },
   "outputs": [],
   "source": []
  }
 ],
 "metadata": {
  "anaconda-cloud": {},
  "kernelspec": {
   "display_name": "Python [conda root]",
   "language": "python",
   "name": "conda-root-py"
  },
  "language_info": {
   "codemirror_mode": {
    "name": "ipython",
    "version": 2
   },
   "file_extension": ".py",
   "mimetype": "text/x-python",
   "name": "python",
   "nbconvert_exporter": "python",
   "pygments_lexer": "ipython2",
   "version": "2.7.12"
  }
 },
 "nbformat": 4,
 "nbformat_minor": 2
}
