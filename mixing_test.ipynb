{
 "cells": [
  {
   "cell_type": "code",
   "execution_count": 1,
   "metadata": {
    "collapsed": true
   },
   "outputs": [],
   "source": [
    "import numpy as np\n",
    "from scipy.optimize import minimize\n",
    "import librosa\n",
    "\n",
    "\n",
    "\n",
    "\n",
    "def get_feature_audio(filename):\n",
    "    sr = 8192\n",
    "    y, fs = librosa.load(filename, mono=True, sr=sr)\n",
    "    feature = y ** 2.0\n",
    "    return feature\n",
    "\n",
    "\n",
    "def linear_model(x, A, y):\n",
    "    return np.linalg.norm(np.dot(A, x) - y, ord=2)\n",
    "\n"
   ]
  },
  {
   "cell_type": "code",
   "execution_count": 2,
   "metadata": {
    "collapsed": true
   },
   "outputs": [],
   "source": [
    "import os\n",
    "import sox\n",
    "import tempfile\n",
    "\n",
    "def hex_to_stem_list(hex_file):\n",
    "    temp_path = tempfile.mkdtemp() + '/'\n",
    "\n",
    "    output_mapping = {'0': {1: [1]},\n",
    "                      '1': {1: [2]},\n",
    "                      '2': {1: [3]},\n",
    "                      '3': {1: [4]},\n",
    "                      '4': {1: [5]},\n",
    "                      '5': {1: [6]}\n",
    "                      }\n",
    "    stem_files = []\n",
    "    for mix_type, remix_dict in output_mapping.items():\n",
    "        tfm = sox.Transformer()\n",
    "        tfm.remix(remix_dictionary=remix_dict)\n",
    "        output_path = os.path.join(temp_path, '{}.wav'.format(mix_type))\n",
    "        stem_files.append(output_path)\n",
    "        tfm.build(hex_file, output_path)\n",
    "    return stem_files # a list of stem file names."
   ]
  },
  {
   "cell_type": "code",
   "execution_count": 3,
   "metadata": {
    "collapsed": true
   },
   "outputs": [],
   "source": [
    "mix_file = '/Users/tom/Music/DataSet/test_set_ref/eh_BN1-129-Eb_mic_comp.wav'\n",
    "hex_file = '/Users/tom/Music/DataSet/test_set_cleaned2/eh_BN1-129-Eb_hex_comp_cleaned.wav'\n",
    "stem_files = hex_to_stem_list(hex_file)"
   ]
  },
  {
   "cell_type": "code",
   "execution_count": 4,
   "metadata": {
    "collapsed": true
   },
   "outputs": [],
   "source": [
    "\n",
    "def analyze_mix_audio(mix_file, stem_files):\n",
    "    mix_audio = get_feature_audio(mix_file)\n",
    "\n",
    "#     stems = mtrack.stems\n",
    "#     stem_indices = list(stems.keys())\n",
    "#     n_stems = len(stem_indices)\n",
    "#     stem_files = [stems[k].audio_path for k in stem_indices]\n",
    "    stem_audio = np.array(\n",
    "        [get_feature_audio(_) for _ in stem_files]\n",
    "    )\n",
    "    n_stems = stem_audio.shape[0]\n",
    "    stem_indices = range(n_stems)\n",
    "    # force weights to be between 0.01 and 100\n",
    "    bounds = tuple([(0.01, 100.0) for _ in range(n_stems)])\n",
    "    res = minimize(\n",
    "        linear_model, x0=np.ones((n_stems,)), args=(stem_audio.T, mix_audio.T),\n",
    "        bounds=bounds\n",
    "    )\n",
    "    coefs = res['x']\n",
    "\n",
    "    mixing_coeffs = {\n",
    "        int(i): float(c) for i, c in zip(stem_indices, coefs)\n",
    "    }\n",
    "    return mixing_coeffs\n"
   ]
  },
  {
   "cell_type": "code",
   "execution_count": 5,
   "metadata": {
    "collapsed": true
   },
   "outputs": [],
   "source": [
    "mixing_coeffs = analyze_mix_audio(mix_file, stem_files)"
   ]
  },
  {
   "cell_type": "code",
   "execution_count": 6,
   "metadata": {},
   "outputs": [
    {
     "data": {
      "text/plain": [
       "{0: 4.686577773164704,\n",
       " 1: 4.117686649927694,\n",
       " 2: 1.1625930328961953,\n",
       " 3: 3.8748405182139765,\n",
       " 4: 2.9273201881978563,\n",
       " 5: 35.75451270914055}"
      ]
     },
     "execution_count": 6,
     "metadata": {},
     "output_type": "execute_result"
    }
   ],
   "source": [
    "mixing_coeffs"
   ]
  },
  {
   "cell_type": "code",
   "execution_count": null,
   "metadata": {
    "collapsed": true
   },
   "outputs": [],
   "source": []
  }
 ],
 "metadata": {
  "anaconda-cloud": {},
  "kernelspec": {
   "display_name": "Python [conda root]",
   "language": "python",
   "name": "conda-root-py"
  },
  "language_info": {
   "codemirror_mode": {
    "name": "ipython",
    "version": 2
   },
   "file_extension": ".py",
   "mimetype": "text/x-python",
   "name": "python",
   "nbconvert_exporter": "python",
   "pygments_lexer": "ipython2",
   "version": "2.7.12"
  }
 },
 "nbformat": 4,
 "nbformat_minor": 2
}
