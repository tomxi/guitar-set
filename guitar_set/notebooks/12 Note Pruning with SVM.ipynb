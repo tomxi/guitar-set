{
 "cells": [
  {
   "cell_type": "code",
   "execution_count": 2,
   "metadata": {
    "nbpresent": {
     "id": "ff32279f-0863-4d86-a545-7adc64f72ae7"
    }
   },
   "outputs": [
    {
     "name": "stdout",
     "output_type": "stream",
     "text": [
      "/Users/tom/Documents/REPO/guitar-set\n"
     ]
    }
   ],
   "source": [
    "cd ../../"
   ]
  },
  {
   "cell_type": "code",
   "execution_count": 3,
   "metadata": {
    "nbpresent": {
     "id": "7f605d8a-5371-4056-b725-2c04bca4b4ab"
    }
   },
   "outputs": [],
   "source": [
    "import jams\n",
    "import librosa\n",
    "import numpy as np\n",
    "import glob\n",
    "import os\n"
   ]
  },
  {
   "cell_type": "code",
   "execution_count": 4,
   "metadata": {
    "nbpresent": {
     "id": "c88da0cc-2c10-45c6-8c9f-63bdadd248ef"
    }
   },
   "outputs": [],
   "source": [
    "def is_note(st, et, ref_ann):\n",
    "    # checks the midpoint of the note for annotation for now.\n",
    "    time_check = (float(st) + float(et))/2\n",
    "    label_output = ref_ann.to_samples([time_check])\n",
    "    label = bool(len(label_output[0]))\n",
    "    return label"
   ]
  },
  {
   "cell_type": "code",
   "execution_count": 5,
   "metadata": {
    "nbpresent": {
     "id": "df69c586-460d-4da0-88f1-e4670046d9b5"
    }
   },
   "outputs": [],
   "source": [
    "def do_one(jam, man):\n",
    "    features = []\n",
    "    labels = []\n",
    "    ann_list = jam.annotations['pitch_midi']\n",
    "    man_list = man.annotations['pitch_midi']\n",
    "    for ann, ref_ann in zip(ann_list, man_list):\n",
    "        feature_len = len(ann.sandbox.features)\n",
    "        feature = np.array(ann.sandbox.features)\n",
    "        if len(features) == 0:\n",
    "            features = feature\n",
    "        elif len(feature) == 0:\n",
    "            pass\n",
    "        else:\n",
    "            features = np.vstack((features, feature))\n",
    "            \n",
    "        for note in ann:\n",
    "            st = float(note.time)\n",
    "            et = float(st + note.duration)\n",
    "            label = is_note(st, et, ref_ann)\n",
    "            labels.append(label)\n",
    "    labels = np.array(labels)\n",
    "    return features, labels"
   ]
  },
  {
   "cell_type": "code",
   "execution_count": 6,
   "metadata": {
    "nbpresent": {
     "id": "474db9cf-c302-48ca-b323-9bdaa69528b8"
    }
   },
   "outputs": [],
   "source": [
    "# First try on one single jams file\n",
    "jams_path = '/Users/tom/Music/DataSet/test-set_processed/eh_BN1-129-Eb_c_hex_cln.jams'\n",
    "man_path = '/Users/tom/Music/DataSet/test-set_man/eh_BN1-129-Eb_c_man.jams'\n",
    "wav_path = '/Users/tom/Music/DataSet/test-set_processed/eh_BN1-129-Eb_c_hex_cln.wav'\n",
    "\n",
    "jam = jams.load(jams_path)\n",
    "man = jams.load(man_path)\n",
    "features, labels = do_one(jam, man)"
   ]
  },
  {
   "cell_type": "code",
   "execution_count": 7,
   "metadata": {
    "nbpresent": {
     "id": "6c092afc-54b6-4680-bda6-b0a5fa321964"
    }
   },
   "outputs": [],
   "source": [
    "def do_many(jam_dir, man_dir):\n",
    "    big_features = np.empty((0,7), float)\n",
    "    big_labels = np.empty((0,0), int)\n",
    "    jams_list = glob.glob(os.path.join(jam_dir, '*.jams'))\n",
    "    man_list = glob.glob(os.path.join(man_dir, '*.jams'))\n",
    "    \n",
    "    for j_path, m_path in zip(jams_list, man_list):\n",
    "        print('im here~')\n",
    "        j = jams.load(j_path)\n",
    "        m = jams.load(m_path)\n",
    "        features, labels = do_one(j, m)\n",
    "        big_features = np.append(big_features, features, axis=0)\n",
    "        big_labels = np.append(big_labels, labels)\n",
    "    return big_features, big_labels"
   ]
  },
  {
   "cell_type": "code",
   "execution_count": 8,
   "metadata": {
    "nbpresent": {
     "id": "01631234-5633-407d-95be-448117b3d66a"
    }
   },
   "outputs": [
    {
     "name": "stdout",
     "output_type": "stream",
     "text": [
      "im here~\n",
      "im here~\n",
      "im here~\n",
      "im here~\n",
      "im here~\n",
      "im here~\n",
      "im here~\n",
      "im here~\n"
     ]
    }
   ],
   "source": [
    "jams_dir = '/Users/tom/Music/DataSet/test-set_processed/'\n",
    "man_dir = '/Users/tom/Music/DataSet/test-set_man/'\n",
    "big_features, big_labels = do_many(jams_dir, man_dir)"
   ]
  },
  {
   "cell_type": "code",
   "execution_count": 9,
   "metadata": {
    "nbpresent": {
     "id": "2a71415d-976f-43a3-b1b7-f8dd6f9b5ca7"
    }
   },
   "outputs": [
    {
     "data": {
      "text/plain": [
       "(1339, 7)"
      ]
     },
     "execution_count": 9,
     "metadata": {},
     "output_type": "execute_result"
    }
   ],
   "source": [
    "big_features.shape"
   ]
  },
  {
   "cell_type": "code",
   "execution_count": 10,
   "metadata": {
    "nbpresent": {
     "id": "ffa54cc5-9956-427a-9beb-1ff9936e2c7e"
    }
   },
   "outputs": [],
   "source": [
    "# Normalize features\n",
    "from sklearn import preprocessing\n",
    "features_normed = preprocessing.scale(big_features)\n",
    "labels = big_labels.astype(int)"
   ]
  },
  {
   "cell_type": "code",
   "execution_count": 11,
   "metadata": {
    "nbpresent": {
     "id": "358acda0-36ce-430c-a616-86df0165c418"
    }
   },
   "outputs": [
    {
     "data": {
      "text/plain": [
       "SVC(C=1.0, cache_size=200, class_weight=None, coef0=0.0,\n",
       "  decision_function_shape=None, degree=3, gamma='auto', kernel='rbf',\n",
       "  max_iter=-1, probability=False, random_state=None, shrinking=True,\n",
       "  tol=0.001, verbose=False)"
      ]
     },
     "execution_count": 11,
     "metadata": {},
     "output_type": "execute_result"
    }
   ],
   "source": [
    "# sklearn SVM\n",
    "from sklearn import svm\n",
    "clf = svm.SVC()\n",
    "clf.fit(features_normed, labels)"
   ]
  },
  {
   "cell_type": "code",
   "execution_count": 12,
   "metadata": {
    "nbpresent": {
     "id": "d8a95c33-a528-440c-9064-b4a758239a12"
    }
   },
   "outputs": [],
   "source": [
    "# Hyperparameter search and validation\n",
    "\n",
    "from __future__ import print_function\n",
    "\n",
    "from sklearn import datasets\n",
    "from sklearn.model_selection import train_test_split\n",
    "from sklearn.model_selection import GridSearchCV\n",
    "from sklearn.metrics import classification_report\n",
    "from sklearn.svm import SVC"
   ]
  },
  {
   "cell_type": "code",
   "execution_count": 13,
   "metadata": {
    "nbpresent": {
     "id": "2dd838a9-06b4-4377-a20f-eab4a7675dfe"
    }
   },
   "outputs": [
    {
     "name": "stdout",
     "output_type": "stream",
     "text": [
      "# Tuning hyper-parameters for precision\n",
      "\n"
     ]
    },
    {
     "name": "stderr",
     "output_type": "stream",
     "text": [
      "//anaconda/lib/python2.7/site-packages/sklearn/metrics/classification.py:1113: UndefinedMetricWarning: Precision is ill-defined and being set to 0.0 in labels with no predicted samples.\n",
      "  'precision', 'predicted', average, warn_for)\n"
     ]
    },
    {
     "name": "stdout",
     "output_type": "stream",
     "text": [
      "Best parameters set found on development set:\n",
      "\n",
      "{'kernel': 'linear', 'C': 100}\n",
      "\n",
      "Grid scores on development set:\n",
      "\n",
      "0.620 (+/-0.452) for {'kernel': 'rbf', 'C': 1, 'gamma': 0.001}\n",
      "0.445 (+/-0.093) for {'kernel': 'rbf', 'C': 1, 'gamma': 0.0001}\n",
      "0.578 (+/-0.238) for {'kernel': 'rbf', 'C': 10, 'gamma': 0.001}\n",
      "0.514 (+/-0.094) for {'kernel': 'rbf', 'C': 10, 'gamma': 0.0001}\n",
      "0.578 (+/-0.238) for {'kernel': 'rbf', 'C': 100, 'gamma': 0.001}\n",
      "0.526 (+/-0.091) for {'kernel': 'rbf', 'C': 100, 'gamma': 0.0001}\n",
      "0.578 (+/-0.238) for {'kernel': 'rbf', 'C': 1000, 'gamma': 0.001}\n",
      "0.519 (+/-0.085) for {'kernel': 'rbf', 'C': 1000, 'gamma': 0.0001}\n",
      "0.612 (+/-0.324) for {'kernel': 'linear', 'C': 1}\n",
      "0.622 (+/-0.319) for {'kernel': 'linear', 'C': 10}\n",
      "0.706 (+/-0.281) for {'kernel': 'linear', 'C': 100}\n",
      "0.587 (+/-0.291) for {'kernel': 'linear', 'C': 1000}\n",
      "\n",
      "Detailed classification report:\n",
      "\n",
      "The model is trained on the full development set.\n",
      "The scores are computed on the full evaluation set.\n",
      "\n",
      "             precision    recall  f1-score   support\n",
      "\n",
      "          0       0.74      0.98      0.84       496\n",
      "          1       0.29      0.03      0.05       174\n",
      "\n",
      "avg / total       0.63      0.73      0.64       670\n",
      "\n",
      "\n",
      "# Tuning hyper-parameters for recall\n",
      "\n",
      "Best parameters set found on development set:\n",
      "\n",
      "{'kernel': 'rbf', 'C': 100, 'gamma': 0.0001}\n",
      "\n",
      "Grid scores on development set:\n",
      "\n",
      "0.504 (+/-0.026) for {'kernel': 'rbf', 'C': 1, 'gamma': 0.001}\n",
      "0.490 (+/-0.016) for {'kernel': 'rbf', 'C': 1, 'gamma': 0.0001}\n",
      "0.516 (+/-0.055) for {'kernel': 'rbf', 'C': 10, 'gamma': 0.001}\n",
      "0.511 (+/-0.078) for {'kernel': 'rbf', 'C': 10, 'gamma': 0.0001}\n",
      "0.516 (+/-0.055) for {'kernel': 'rbf', 'C': 100, 'gamma': 0.001}\n",
      "0.522 (+/-0.079) for {'kernel': 'rbf', 'C': 100, 'gamma': 0.0001}\n",
      "0.516 (+/-0.055) for {'kernel': 'rbf', 'C': 1000, 'gamma': 0.001}\n",
      "0.516 (+/-0.074) for {'kernel': 'rbf', 'C': 1000, 'gamma': 0.0001}\n",
      "0.515 (+/-0.034) for {'kernel': 'linear', 'C': 1}\n",
      "0.514 (+/-0.023) for {'kernel': 'linear', 'C': 10}\n",
      "0.520 (+/-0.026) for {'kernel': 'linear', 'C': 100}\n",
      "0.510 (+/-0.033) for {'kernel': 'linear', 'C': 1000}\n",
      "\n",
      "Detailed classification report:\n",
      "\n",
      "The model is trained on the full development set.\n",
      "The scores are computed on the full evaluation set.\n",
      "\n",
      "             precision    recall  f1-score   support\n",
      "\n",
      "          0       0.76      0.75      0.75       496\n",
      "          1       0.30      0.30      0.30       174\n",
      "\n",
      "avg / total       0.64      0.64      0.64       670\n",
      "\n",
      "\n"
     ]
    }
   ],
   "source": [
    "# To apply an classifier on this data, we need to flatten the image, to\n",
    "# turn the data in a (samples, feature) matrix:\n",
    "n_samples = big_features.shape[0]\n",
    "X = big_features\n",
    "y = big_labels\n",
    "\n",
    "# Split the dataset in two equal parts\n",
    "X_train, X_test, y_train, y_test = train_test_split(\n",
    "    X, y, test_size=0.5, random_state=0)\n",
    "\n",
    "# Set the parameters by cross-validation\n",
    "tuned_parameters = [{'kernel': ['rbf'], 'gamma': [1e-3, 1e-4],\n",
    "                     'C': [1, 10, 100, 1000]},\n",
    "                    {'kernel': ['linear'], 'C': [1, 10, 100, 1000]}]\n",
    "\n",
    "scores = ['precision', 'recall']\n",
    "\n",
    "for score in scores:\n",
    "    print(\"# Tuning hyper-parameters for %s\" % score)\n",
    "    print()\n",
    "\n",
    "    clf = GridSearchCV(SVC(), tuned_parameters, cv=5,\n",
    "                       scoring='%s_macro' % score)\n",
    "    clf.fit(X_train, y_train)\n",
    "\n",
    "    print(\"Best parameters set found on development set:\")\n",
    "    print()\n",
    "    print(clf.best_params_)\n",
    "    print()\n",
    "    print(\"Grid scores on development set:\")\n",
    "    print()\n",
    "    means = clf.cv_results_['mean_test_score']\n",
    "    stds = clf.cv_results_['std_test_score']\n",
    "    for mean, std, params in zip(means, stds, clf.cv_results_['params']):\n",
    "        print(\"%0.3f (+/-%0.03f) for %r\"\n",
    "              % (mean, std * 2, params))\n",
    "    print()\n",
    "\n",
    "    print(\"Detailed classification report:\")\n",
    "    print()\n",
    "    print(\"The model is trained on the full development set.\")\n",
    "    print(\"The scores are computed on the full evaluation set.\")\n",
    "    print()\n",
    "    y_true, y_pred = y_test, clf.predict(X_test)\n",
    "    print(classification_report(y_true, y_pred))\n",
    "    print()"
   ]
  },
  {
   "cell_type": "code",
   "execution_count": null,
   "metadata": {
    "nbpresent": {
     "id": "24720bc7-c9bb-41f6-addf-81b88ddcead4"
    }
   },
   "outputs": [],
   "source": []
  },
  {
   "cell_type": "code",
   "execution_count": null,
   "metadata": {
    "nbpresent": {
     "id": "7051ad35-cb46-4e13-8201-243fb769ad05"
    }
   },
   "outputs": [],
   "source": []
  }
 ],
 "metadata": {
  "anaconda-cloud": {},
  "kernelspec": {
   "display_name": "Python [conda root]",
   "language": "python",
   "name": "conda-root-py"
  },
  "language_info": {
   "codemirror_mode": {
    "name": "ipython",
    "version": 2
   },
   "file_extension": ".py",
   "mimetype": "text/x-python",
   "name": "python",
   "nbconvert_exporter": "python",
   "pygments_lexer": "ipython2",
   "version": "2.7.12"
  },
  "nbpresent": {
   "slides": {
    "e08fdecb-c5a9-43ff-ac48-1c9ca9d0b434": {
     "id": "e08fdecb-c5a9-43ff-ac48-1c9ca9d0b434",
     "layout": "grid",
     "prev": null,
     "regions": {
      "730a28e8-08be-4fa0-97ca-623f0c5eb5ed": {
       "attrs": {
        "height": 0.8333333333333334,
        "pad": 0.01,
        "width": 0.4166666666666667,
        "x": 0.5,
        "y": 0.08333333333333333
       },
       "content": {
        "cell": "01631234-5633-407d-95be-448117b3d66a",
        "part": "outputs"
       },
       "id": "730a28e8-08be-4fa0-97ca-623f0c5eb5ed"
      },
      "8ec5553e-c831-4503-9fb4-0a0af8ac12fb": {
       "attrs": {
        "height": 0.8333333333333334,
        "pad": 0.01,
        "width": 0.4166666666666667,
        "x": 0.08333333333333333,
        "y": 0.08333333333333333
       },
       "content": {
        "cell": "01631234-5633-407d-95be-448117b3d66a",
        "part": "source"
       },
       "id": "8ec5553e-c831-4503-9fb4-0a0af8ac12fb"
      }
     }
    }
   },
   "themes": {}
  }
 },
 "nbformat": 4,
 "nbformat_minor": 2
}
