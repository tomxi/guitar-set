{
 "cells": [
  {
   "cell_type": "code",
   "execution_count": 11,
   "metadata": {
    "collapsed": true
   },
   "outputs": [],
   "source": [
    "import os\n",
    "import tempfile\n",
    "import shutil\n",
    "import sox\n",
    "import mirapie.call_mira as mira\n",
    "import guitar_set.annotator as ann\n",
    "\n",
    "\n",
    "input_path = '/Users/tom/Music/DataSet/test_set/eh_BN1-129-Eb_hex_comp.wav'\n",
    "csv_path = '/Users/tom/Music/DataSet/test_set/mira.csv'\n",
    "out_path = '/Users/tom/Music/DataSet/test_set_cleaned2/'\n",
    "\n",
    "dirpath = tempfile.mkdtemp() + '/'"
   ]
  },
  {
   "cell_type": "code",
   "execution_count": 12,
   "metadata": {
    "collapsed": true
   },
   "outputs": [],
   "source": [
    "output_mapping = {'0': {1: [1]},\n",
    "                  '1': {1: [2]},\n",
    "                  '2': {1: [3]},\n",
    "                  '3': {1: [4]},\n",
    "                  '4': {1: [5]},\n",
    "                  '5': {1: [6]}\n",
    "                 }"
   ]
  },
  {
   "cell_type": "code",
   "execution_count": 13,
   "metadata": {
    "collapsed": true
   },
   "outputs": [],
   "source": [
    "for mix_type, remix_dict in output_mapping.items():\n",
    "    tfm = sox.Transformer()\n",
    "    tfm.remix(remix_dictionary=remix_dict)\n",
    "    output_path = os.path.join(dirpath, '{}.wav'.format(mix_type))\n",
    "    tfm.build(input_path, output_path)"
   ]
  },
  {
   "cell_type": "code",
   "execution_count": 14,
   "metadata": {
    "collapsed": true
   },
   "outputs": [],
   "source": [
    "mira.run(dirpath, csv_path)"
   ]
  },
  {
   "cell_type": "code",
   "execution_count": 15,
   "metadata": {},
   "outputs": [
    {
     "data": {
      "text/plain": [
       "('/var/folders/8r/909b0nwx5hn2h831tgxzz1qm0000gn/T/tmpJ7H9OU/',\n",
       " '/Users/tom/Music/DataSet/test_set/mira.csv')"
      ]
     },
     "execution_count": 15,
     "metadata": {},
     "output_type": "execute_result"
    }
   ],
   "source": [
    "dirpath, csv_path"
   ]
  },
  {
   "cell_type": "code",
   "execution_count": 16,
   "metadata": {},
   "outputs": [
    {
     "data": {
      "text/plain": [
       "'/Users/tom/Music/DataSet/test_set/eh_BN1-129-Eb_hex_comp'"
      ]
     },
     "execution_count": 16,
     "metadata": {},
     "output_type": "execute_result"
    }
   ],
   "source": [
    "input_path.split('.')[0]"
   ]
  },
  {
   "cell_type": "code",
   "execution_count": 27,
   "metadata": {},
   "outputs": [
    {
     "name": "stderr",
     "output_type": "stream",
     "text": [
      "WARNING:root:Input formats were only specified for 0 out of 6 files.The last 6 files will remain unformatted.\n"
     ]
    }
   ],
   "source": [
    "file_name = os.path.basename(input_path).split('.')[0] + '_cleaned.wav'\n",
    "\n",
    "cleaned_output_mapping = {file_name: {k:[v] for (k,v) in zip(range(1,7), range(1,7))}}\n",
    "\n",
    "cleaned_stems = [os.path.join(dirpath, f) for f in os.listdir(dirpath) if\n",
    "                 os.path.isfile(os.path.join(dirpath, f))]\n",
    "\n",
    "for file_name, remix_dict in cleaned_output_mapping.items():\n",
    "    cbn = sox.Combiner()\n",
    "    cbn.remix(remix_dictionary=remix_dict)\n",
    "    output_path = os.path.join(out_path, '{}.wav'.format(file_name))\n",
    "    cbn.build(cleaned_stems, output_path, combine_type='merge')"
   ]
  },
  {
   "cell_type": "code",
   "execution_count": 28,
   "metadata": {
    "collapsed": true
   },
   "outputs": [],
   "source": [
    "shutil.rmtree(dirpath)"
   ]
  },
  {
   "cell_type": "code",
   "execution_count": 21,
   "metadata": {},
   "outputs": [
    {
     "data": {
      "text/plain": [
       "['0.wav', '1.wav', '2.wav', '3.wav', '4.wav', '5.wav', 'post_clean']"
      ]
     },
     "execution_count": 21,
     "metadata": {},
     "output_type": "execute_result"
    }
   ],
   "source": [
    "os.listdir(dirpath)"
   ]
  },
  {
   "cell_type": "code",
   "execution_count": 25,
   "metadata": {},
   "outputs": [
    {
     "data": {
      "text/plain": [
       "['0.wav', '1.wav', '2.wav', '3.wav', '4.wav', '5.wav']"
      ]
     },
     "execution_count": 25,
     "metadata": {},
     "output_type": "execute_result"
    }
   ],
   "source": [
    "[f for f in os.listdir(dirpath) if ]"
   ]
  },
  {
   "cell_type": "code",
   "execution_count": null,
   "metadata": {
    "collapsed": true
   },
   "outputs": [],
   "source": []
  }
 ],
 "metadata": {
  "anaconda-cloud": {},
  "kernelspec": {
   "display_name": "Python [conda root]",
   "language": "python",
   "name": "conda-root-py"
  },
  "language_info": {
   "codemirror_mode": {
    "name": "ipython",
    "version": 2
   },
   "file_extension": ".py",
   "mimetype": "text/x-python",
   "name": "python",
   "nbconvert_exporter": "python",
   "pygments_lexer": "ipython2",
   "version": "2.7.12"
  }
 },
 "nbformat": 4,
 "nbformat_minor": 2
}
