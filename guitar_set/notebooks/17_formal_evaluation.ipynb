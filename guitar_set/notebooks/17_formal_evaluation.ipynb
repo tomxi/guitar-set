{
 "cells": [
  {
   "cell_type": "code",
   "execution_count": 1,
   "metadata": {},
   "outputs": [
    {
     "name": "stdout",
     "output_type": "stream",
     "text": [
      "/Users/tom/Documents/REPO/guitar-set\n"
     ]
    }
   ],
   "source": [
    "cd ../.."
   ]
  },
  {
   "cell_type": "code",
   "execution_count": 2,
   "metadata": {},
   "outputs": [],
   "source": [
    "import guitar_set.annotate as ant\n",
    "import jams"
   ]
  },
  {
   "cell_type": "markdown",
   "metadata": {},
   "source": [
    "What do I want to do?\n",
    "\n",
    " * import two jams\n",
    " * compare their annotations one by one using Note\n",
    " * compare their annotations one by one using f0\n",
    " * Compute f scores for the whole jams file"
   ]
  },
  {
   "cell_type": "code",
   "execution_count": 8,
   "metadata": {},
   "outputs": [],
   "source": [
    "# Futuer User inputs:\n",
    "ref_file_dir = '/Users/tom/Music/DataSet/test-set_processed/pYin/'\n",
    "est_file_dir = '/Users/tom/Music/DataSet/test-set_man/'"
   ]
  },
  {
   "cell_type": "code",
   "execution_count": 9,
   "metadata": {},
   "outputs": [
    {
     "data": {
      "text/plain": [
       "OrderedDict([('Precision', 0.7567567567567568),\n",
       "             ('Recall', 0.6691560866318148),\n",
       "             ('F-measure', 0.710265556876734),\n",
       "             ('Average_Overlap_Ratio', 0.94493087167565126),\n",
       "             ('Precision_no_offset', 0.8369932432432432),\n",
       "             ('Recall_no_offset', 0.7401045556385362),\n",
       "             ('F-measure_no_offset', 0.7855727308759414),\n",
       "             ('Average_Overlap_Ratio_no_offset', 0.90724600074091077),\n",
       "             ('Onset_Precision', 0.8640202702702703),\n",
       "             ('Onset_Recall', 0.7640029873039582),\n",
       "             ('Onset_F-measure', 0.8109393579072534),\n",
       "             ('Offset_Precision', 0.8184121621621622),\n",
       "             ('Offset_Recall', 0.7236743838685586),\n",
       "             ('Offset_F-measure', 0.7681331747919142)])"
      ]
     },
     "execution_count": 9,
     "metadata": {},
     "output_type": "execute_result"
    }
   ],
   "source": [
    "ant.dir_to_score(ref_dir=ref_file_dir, est_dir=est_file_dir)"
   ]
  },
  {
   "cell_type": "code",
   "execution_count": 30,
   "metadata": {},
   "outputs": [],
   "source": [
    "import os\n",
    "os.listdir(est_file_dir)\n",
    "jams_list = [f for f in os.listdir(est_file_dir) if len(f.split('.')) > 1 and f.split('.')[1] == 'jams']"
   ]
  },
  {
   "cell_type": "code",
   "execution_count": 31,
   "metadata": {},
   "outputs": [
    {
     "data": {
      "text/plain": [
       "['js_SS2-107-Ab_s_man.jams',\n",
       " 'eh_BN1-129-Eb_s_man.jams',\n",
       " 'vl_Jazz2-110-Bb_s_man.jams',\n",
       " 'jf_Funk3-112-C#_s_man.jams',\n",
       " 'jf_Funk3-112-C#_c_man.jams',\n",
       " 'vl_Jazz2-110-Bb_c_man.jams',\n",
       " 'eh_BN1-129-Eb_c_man.jams',\n",
       " 'js_SS2-107-Ab_c_man.jams']"
      ]
     },
     "execution_count": 31,
     "metadata": {},
     "output_type": "execute_result"
    }
   ],
   "source": [
    "jams_list"
   ]
  },
  {
   "cell_type": "code",
   "execution_count": null,
   "metadata": {},
   "outputs": [],
   "source": []
  }
 ],
 "metadata": {
  "anaconda-cloud": {},
  "kernelspec": {
   "display_name": "Python [conda root]",
   "language": "python",
   "name": "conda-root-py"
  },
  "language_info": {
   "codemirror_mode": {
    "name": "ipython",
    "version": 2
   },
   "file_extension": ".py",
   "mimetype": "text/x-python",
   "name": "python",
   "nbconvert_exporter": "python",
   "pygments_lexer": "ipython2",
   "version": "2.7.12"
  }
 },
 "nbformat": 4,
 "nbformat_minor": 2
}
