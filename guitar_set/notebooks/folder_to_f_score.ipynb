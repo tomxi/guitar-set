{
 "cells": [
  {
   "cell_type": "code",
   "execution_count": 3,
   "metadata": {
    "collapsed": true
   },
   "outputs": [],
   "source": [
    "import jams\n",
    "import os\n",
    "import json\n",
    "import matplotlib.pyplot as plt\n",
    "% matplotlib inline"
   ]
  },
  {
   "cell_type": "code",
   "execution_count": 4,
   "metadata": {},
   "outputs": [],
   "source": [
    "def dir_to_score(ref_dir, est_dir):\n",
    "    # ref_dir and est_dir need to contain all 8 jams files of the test-set\n",
    "    jams_list = [f for f in os.listdir(est_dir) if f.split('.')[1] == 'jams']\n",
    "    ref_list = [f for f in os.listdir(ref_dir) if f.split('.')[1] == 'jams']\n",
    "    jams_list.sort()\n",
    "    ref_list.sort()\n",
    "    \n",
    "    # combine and collect all annotations in big_est and big_ref\n",
    "    big_est = jams.Annotation('pitch_midi')\n",
    "    big_ref = jams.Annotation('pitch_midi')\n",
    "    big_est.duration = 0\n",
    "    big_ref.duration = 0\n",
    "    for e,r in zip(jams_list, ref_list):\n",
    "        est_jams = jams.load(os.path.join(est_dir, e))\n",
    "        ref_jams = jams.load(os.path.join(ref_dir, r))\n",
    "        # print(e,r)\n",
    "        for i in range(6):\n",
    "            est_ann = est_jams.search(namespace='pitch_midi')[i]\n",
    "            ref_ann = ref_jams.search(namespace='pitch_midi')[i]\n",
    "            t_offset = i * est_ann.duration + big_est.duration\n",
    "            big_est.duration += est_ann.duration\n",
    "            big_ref.duration += ref_ann.duration\n",
    "            for obs in est_ann:\n",
    "                big_est.append(time=obs.time + t_offset, duration=obs.duration, value=obs.value)\n",
    "            for obs in ref_ann:\n",
    "                big_ref.append(time=obs.time + t_offset, duration=obs.duration, value=obs.value)\n",
    "                \n",
    "    scores = jams.eval.transcription(big_ref, big_est)\n",
    "    return scores\n",
    "\n",
    "\n",
    "def get_dir_list(dir_path):\n",
    "    dir_list = [os.path.join(dir_path, d) for d in os.listdir(dir_path) \n",
    "                if os.path.isdir(os.path.join(dir_path, d))]\n",
    "    return dir_list\n"
   ]
  },
  {
   "cell_type": "code",
   "execution_count": 5,
   "metadata": {},
   "outputs": [
    {
     "name": "stdout",
     "output_type": "stream",
     "text": [
      "('/Users/tom/Music/DataSet/test-set_mira_search1/2GPH', 41)\n"
     ]
    },
    {
     "name": "stdout",
     "output_type": "stream",
     "text": [
      "('/Users/tom/Music/DataSet/test-set_mira_search1/6ZWQ', 40)\n"
     ]
    },
    {
     "name": "stdout",
     "output_type": "stream",
     "text": [
      "('/Users/tom/Music/DataSet/test-set_mira_search1/WF6A', 39)\n"
     ]
    },
    {
     "name": "stdout",
     "output_type": "stream",
     "text": [
      "('/Users/tom/Music/DataSet/test-set_mira_search1/BBDD', 38)\n"
     ]
    },
    {
     "name": "stdout",
     "output_type": "stream",
     "text": [
      "('/Users/tom/Music/DataSet/test-set_mira_search1/51CB', 37)\n"
     ]
    },
    {
     "name": "stdout",
     "output_type": "stream",
     "text": [
      "('/Users/tom/Music/DataSet/test-set_mira_search1/DL88', 36)\n"
     ]
    },
    {
     "name": "stdout",
     "output_type": "stream",
     "text": [
      "('/Users/tom/Music/DataSet/test-set_mira_search1/FBDY', 35)\n"
     ]
    },
    {
     "name": "stdout",
     "output_type": "stream",
     "text": [
      "('/Users/tom/Music/DataSet/test-set_mira_search1/PKBA', 34)\n"
     ]
    },
    {
     "name": "stdout",
     "output_type": "stream",
     "text": [
      "('/Users/tom/Music/DataSet/test-set_mira_search1/SM7N', 33)\n"
     ]
    },
    {
     "name": "stdout",
     "output_type": "stream",
     "text": [
      "('/Users/tom/Music/DataSet/test-set_mira_search1/ZVMH', 32)\n"
     ]
    },
    {
     "name": "stdout",
     "output_type": "stream",
     "text": [
      "('/Users/tom/Music/DataSet/test-set_mira_search1/CUIA', 31)\n"
     ]
    },
    {
     "name": "stdout",
     "output_type": "stream",
     "text": [
      "('/Users/tom/Music/DataSet/test-set_mira_search1/DVTO', 30)\n"
     ]
    },
    {
     "name": "stdout",
     "output_type": "stream",
     "text": [
      "('/Users/tom/Music/DataSet/test-set_mira_search1/RWQ0', 29)\n"
     ]
    },
    {
     "name": "stdout",
     "output_type": "stream",
     "text": [
      "('/Users/tom/Music/DataSet/test-set_mira_search1/HCZ5', 28)\n"
     ]
    },
    {
     "name": "stdout",
     "output_type": "stream",
     "text": [
      "('/Users/tom/Music/DataSet/test-set_mira_search1/D7GQ', 27)\n"
     ]
    },
    {
     "name": "stdout",
     "output_type": "stream",
     "text": [
      "('/Users/tom/Music/DataSet/test-set_mira_search1/VIID', 26)\n"
     ]
    },
    {
     "name": "stdout",
     "output_type": "stream",
     "text": [
      "no param.json\n('/Users/tom/Music/DataSet/test-set_mira_search1/TT2C', 25)\n"
     ]
    },
    {
     "name": "stdout",
     "output_type": "stream",
     "text": [
      "('/Users/tom/Music/DataSet/test-set_mira_search1/BLP8', 24)\n"
     ]
    },
    {
     "name": "stdout",
     "output_type": "stream",
     "text": [
      "('/Users/tom/Music/DataSet/test-set_mira_search1/XZ6S', 23)\n"
     ]
    },
    {
     "name": "stdout",
     "output_type": "stream",
     "text": [
      "('/Users/tom/Music/DataSet/test-set_mira_search1/Y348', 22)\n"
     ]
    },
    {
     "name": "stdout",
     "output_type": "stream",
     "text": [
      "('/Users/tom/Music/DataSet/test-set_mira_search1/BKBA', 21)\n"
     ]
    },
    {
     "name": "stdout",
     "output_type": "stream",
     "text": [
      "('/Users/tom/Music/DataSet/test-set_mira_search1/YTKW', 20)\n"
     ]
    },
    {
     "name": "stdout",
     "output_type": "stream",
     "text": [
      "('/Users/tom/Music/DataSet/test-set_mira_search1/2VVC', 19)\n"
     ]
    },
    {
     "name": "stdout",
     "output_type": "stream",
     "text": [
      "('/Users/tom/Music/DataSet/test-set_mira_search1/F2ZW', 18)\n"
     ]
    },
    {
     "name": "stdout",
     "output_type": "stream",
     "text": [
      "('/Users/tom/Music/DataSet/test-set_mira_search1/16P3', 17)\n"
     ]
    },
    {
     "name": "stdout",
     "output_type": "stream",
     "text": [
      "('/Users/tom/Music/DataSet/test-set_mira_search1/CICB', 16)\n"
     ]
    },
    {
     "name": "stdout",
     "output_type": "stream",
     "text": [
      "('/Users/tom/Music/DataSet/test-set_mira_search1/V3TY', 15)\n"
     ]
    },
    {
     "name": "stdout",
     "output_type": "stream",
     "text": [
      "('/Users/tom/Music/DataSet/test-set_mira_search1/HQAI', 14)\n"
     ]
    },
    {
     "name": "stdout",
     "output_type": "stream",
     "text": [
      "('/Users/tom/Music/DataSet/test-set_mira_search1/2COL', 13)\n"
     ]
    },
    {
     "name": "stdout",
     "output_type": "stream",
     "text": [
      "('/Users/tom/Music/DataSet/test-set_mira_search1/1W02', 12)\n"
     ]
    },
    {
     "name": "stdout",
     "output_type": "stream",
     "text": [
      "('/Users/tom/Music/DataSet/test-set_mira_search1/T3EI', 11)\n"
     ]
    },
    {
     "name": "stdout",
     "output_type": "stream",
     "text": [
      "('/Users/tom/Music/DataSet/test-set_mira_search1/LPPK', 10)\n"
     ]
    },
    {
     "name": "stdout",
     "output_type": "stream",
     "text": [
      "('/Users/tom/Music/DataSet/test-set_mira_search1/L406', 9)\n"
     ]
    },
    {
     "name": "stdout",
     "output_type": "stream",
     "text": [
      "('/Users/tom/Music/DataSet/test-set_mira_search1/A43J', 8)\n"
     ]
    },
    {
     "name": "stdout",
     "output_type": "stream",
     "text": [
      "('/Users/tom/Music/DataSet/test-set_mira_search1/SYSG', 7)\n"
     ]
    },
    {
     "name": "stdout",
     "output_type": "stream",
     "text": [
      "('/Users/tom/Music/DataSet/test-set_mira_search1/JCU7', 6)\n"
     ]
    },
    {
     "name": "stdout",
     "output_type": "stream",
     "text": [
      "('/Users/tom/Music/DataSet/test-set_mira_search1/O3UF', 5)\n"
     ]
    },
    {
     "name": "stdout",
     "output_type": "stream",
     "text": [
      "('/Users/tom/Music/DataSet/test-set_mira_search1/81Y0', 4)\n"
     ]
    },
    {
     "name": "stdout",
     "output_type": "stream",
     "text": [
      "('/Users/tom/Music/DataSet/test-set_mira_search1/Y29R', 3)\n"
     ]
    },
    {
     "name": "stdout",
     "output_type": "stream",
     "text": [
      "('/Users/tom/Music/DataSet/test-set_mira_search1/1C9N', 2)\n"
     ]
    },
    {
     "name": "stdout",
     "output_type": "stream",
     "text": [
      "('/Users/tom/Music/DataSet/test-set_mira_search1/DTD5', 1)\n"
     ]
    }
   ],
   "source": [
    "est_base_dir = '/Users/tom/Music/DataSet/test-set_mira_search1/'\n",
    "ref_dir = '/Users/tom/Music/DataSet/test-set_man'\n",
    "est_dir_list = get_dir_list(est_base_dir)\n",
    "\n",
    "output = []\n",
    "len_todo = len(est_dir_list)\n",
    "for est_dir in est_dir_list:\n",
    "    print(est_dir, len_todo)\n",
    "    s = dir_to_score(ref_dir, est_dir)\n",
    "    param_path = os.path.join(est_dir, 'param.json')\n",
    "    if os.path.isfile(param_path):\n",
    "        with open(param_path, 'r') as stream:\n",
    "            param = json.load(stream)\n",
    "        output.append([s, param])\n",
    "    else:\n",
    "        print('no param.json')\n",
    "    len_todo -= 1"
   ]
  },
  {
   "cell_type": "code",
   "execution_count": 6,
   "metadata": {
    "collapsed": false
   },
   "outputs": [
    {
     "data": {
      "image/png": "[encoded data removed]",
      "text/plain": [
       "<matplotlib.figure.Figure at 0x11091b090>"
      ]
     },
     "metadata": {},
     "output_type": "display_data"
    }
   ],
   "source": [
    "plt.figure()\n",
    "for pair in output:\n",
    "    scores = pair[0]\n",
    "    param = pair[1]\n",
    "    plt.scatter(param['nfft'], scores['F-measure_no_offset'])\n",
    "plt.show()"
   ]
  },
  {
   "cell_type": "code",
   "execution_count": 8,
   "metadata": {},
   "outputs": [
    {
     "data": {
      "image/png": "[encoded data removed]",
      "text/plain": [
       "<matplotlib.figure.Figure at 0x110c5ae90>"
      ]
     },
     "metadata": {},
     "output_type": "display_data"
    }
   ],
   "source": [
    "plt.figure()\n",
    "for pair in output:\n",
    "    scores = pair[0]\n",
    "    param = pair[1]\n",
    "    plt.scatter(param['nfft'], scores['Recall_no_offset'])\n",
    "plt.show()\n"
   ]
  },
  {
   "cell_type": "code",
   "execution_count": 9,
   "metadata": {
    "collapsed": true
   },
   "outputs": [
    {
     "data": {
      "image/png": "[encoded data removed]",
      "text/plain": [
       "<matplotlib.figure.Figure at 0x110d01650>"
      ]
     },
     "metadata": {},
     "output_type": "display_data"
    }
   ],
   "source": [
    "plt.figure()\n",
    "for pair in output:\n",
    "    scores = pair[0]\n",
    "    param = pair[1]\n",
    "    plt.scatter(param['minimal_interference'], scores['F-measure_no_offset'])\n",
    "plt.show()\n"
   ]
  },
  {
   "cell_type": "code",
   "execution_count": 10,
   "metadata": {},
   "outputs": [
    {
     "data": {
      "image/png": "[encoded data removed]",
      "text/plain": [
       "<matplotlib.figure.Figure at 0x110f9a450>"
      ]
     },
     "metadata": {},
     "output_type": "display_data"
    }
   ],
   "source": [
    "plt.figure()\n",
    "for pair in output:\n",
    "    scores = pair[0]\n",
    "    param = pair[1]\n",
    "    plt.scatter(param['minimal_interference'], scores['Recall_no_offset'])\n",
    "plt.show()\n"
   ]
  },
  {
   "cell_type": "code",
   "execution_count": 11,
   "metadata": {},
   "outputs": [
    {
     "data": {
      "image/png": "[encoded data removed]",
      "text/plain": [
       "<matplotlib.figure.Figure at 0x111092d10>"
      ]
     },
     "metadata": {},
     "output_type": "display_data"
    }
   ],
   "source": [
    "plt.figure()\n",
    "for pair in output:\n",
    "    scores = pair[0]\n",
    "    param = pair[1]\n",
    "    plt.scatter(param['n_iter'], scores['F-measure_no_offset'])\n",
    "plt.show()"
   ]
  },
  {
   "cell_type": "code",
   "execution_count": 12,
   "metadata": {},
   "outputs": [
    {
     "data": {
      "image/png": "[encoded data removed]",
      "text/plain": [
       "<matplotlib.figure.Figure at 0x111390150>"
      ]
     },
     "metadata": {},
     "output_type": "display_data"
    }
   ],
   "source": [
    "plt.figure()\n",
    "for pair in output:\n",
    "    scores = pair[0]\n",
    "    param = pair[1]\n",
    "    plt.scatter(param['n_iter'], scores['Recall_no_offset'])\n",
    "plt.show()"
   ]
  },
  {
   "cell_type": "code",
   "execution_count": 13,
   "metadata": {},
   "outputs": [
    {
     "data": {
      "image/png": "[encoded data removed]",
      "text/plain": [
       "<matplotlib.figure.Figure at 0x111503f50>"
      ]
     },
     "metadata": {},
     "output_type": "display_data"
    }
   ],
   "source": [
    "plt.figure()\n",
    "for pair in output:\n",
    "    scores = pair[0]\n",
    "    param = pair[1]\n",
    "    plt.scatter(param['overlap'], scores['F-measure_no_offset'])\n",
    "plt.show()"
   ]
  },
  {
   "cell_type": "code",
   "execution_count": 15,
   "metadata": {},
   "outputs": [
    {
     "data": {
      "image/png": "[encoded data removed]",
      "text/plain": [
       "<matplotlib.figure.Figure at 0x11131c2d0>"
      ]
     },
     "metadata": {},
     "output_type": "display_data"
    }
   ],
   "source": [
    "plt.figure()\n",
    "for pair in output:\n",
    "    scores = pair[0]\n",
    "    param = pair[1]\n",
    "    plt.scatter(param['overlap'], scores['Recall_no_offset'])\n",
    "plt.show()"
   ]
  },
  {
   "cell_type": "code",
   "execution_count": null,
   "metadata": {},
   "outputs": [],
   "source": []
  }
 ],
 "metadata": {
  "anaconda-cloud": {},
  "kernelspec": {
   "display_name": "Python [conda root]",
   "language": "python",
   "name": "conda-root-py"
  },
  "language_info": {
   "codemirror_mode": {
    "name": "ipython",
    "version": 2
   },
   "file_extension": ".py",
   "mimetype": "text/x-python",
   "name": "python",
   "nbconvert_exporter": "python",
   "pygments_lexer": "ipython2",
   "version": "2.7.12"
  }
 },
 "nbformat": 4,
 "nbformat_minor": 2
}
