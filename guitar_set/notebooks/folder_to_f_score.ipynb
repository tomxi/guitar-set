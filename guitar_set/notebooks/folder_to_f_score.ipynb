{
 "cells": [
  {
   "cell_type": "code",
   "execution_count": 33,
   "metadata": {
    "collapsed": true
   },
   "outputs": [],
   "source": [
    "import jams\n",
    "import os\n",
    "import json\n",
    "import matplotlib.pyplot as plt\n",
    "% matplotlib inline"
   ]
  },
  {
   "cell_type": "code",
   "execution_count": 34,
   "metadata": {},
   "outputs": [],
   "source": [
    "def dir_to_score(ref_dir, est_dir):\n",
    "    # ref_dir and est_dir need to contain all 8 jams files of the test-set\n",
    "    jams_list = [f for f in os.listdir(est_dir) if f.split('.')[1] == 'jams']\n",
    "    ref_list = [f for f in os.listdir(ref_dir) if f.split('.')[1] == 'jams']\n",
    "    jams_list.sort()\n",
    "    ref_list.sort()\n",
    "    \n",
    "    # combine and collect all annotations in big_est and big_ref\n",
    "    big_est = jams.Annotation('pitch_midi')\n",
    "    big_ref = jams.Annotation('pitch_midi')\n",
    "    big_est.duration = 0\n",
    "    big_ref.duration = 0\n",
    "    for e,r in zip(jams_list, ref_list):\n",
    "        est_jams = jams.load(os.path.join(est_dir, e))\n",
    "        ref_jams = jams.load(os.path.join(ref_dir, r))\n",
    "        # print(e,r)\n",
    "        for i in range(6):\n",
    "            est_ann = est_jams.search(namespace='pitch_midi')[i]\n",
    "            ref_ann = ref_jams.search(namespace='pitch_midi')[i]\n",
    "            t_offset = i * est_ann.duration + big_est.duration\n",
    "            big_est.duration += est_ann.duration\n",
    "            big_ref.duration += ref_ann.duration\n",
    "            for obs in est_ann:\n",
    "                big_est.append(time=obs.time + t_offset, duration=obs.duration, value=obs.value)\n",
    "            for obs in ref_ann:\n",
    "                big_ref.append(time=obs.time + t_offset, duration=obs.duration, value=obs.value)\n",
    "                \n",
    "    scores = jams.eval.transcription(big_ref, big_est)\n",
    "    return scores\n",
    "\n",
    "\n",
    "def get_dir_list(dir_path):\n",
    "    dir_list = [os.path.join(dir_path, d) for d in os.listdir(dir_path) \n",
    "                if os.path.isdir(os.path.join(dir_path, d))]\n",
    "    return dir_list\n"
   ]
  },
  {
   "cell_type": "code",
   "execution_count": 35,
   "metadata": {},
   "outputs": [
    {
     "name": "stdout",
     "output_type": "stream",
     "text": [
      "('/Users/tom/Music/DataSet/test-set_mira_search2/XVFZ', 40)\n"
     ]
    },
    {
     "name": "stdout",
     "output_type": "stream",
     "text": [
      "('/Users/tom/Music/DataSet/test-set_mira_search2/75S2', 39)\n"
     ]
    },
    {
     "name": "stdout",
     "output_type": "stream",
     "text": [
      "('/Users/tom/Music/DataSet/test-set_mira_search2/W117', 38)\n"
     ]
    },
    {
     "name": "stdout",
     "output_type": "stream",
     "text": [
      "('/Users/tom/Music/DataSet/test-set_mira_search2/RAR7', 37)\n"
     ]
    },
    {
     "name": "stdout",
     "output_type": "stream",
     "text": [
      "('/Users/tom/Music/DataSet/test-set_mira_search2/XDIK', 36)\n"
     ]
    },
    {
     "name": "stdout",
     "output_type": "stream",
     "text": [
      "('/Users/tom/Music/DataSet/test-set_mira_search2/6H8Z', 35)\n"
     ]
    },
    {
     "name": "stdout",
     "output_type": "stream",
     "text": [
      "('/Users/tom/Music/DataSet/test-set_mira_search2/9FZE', 34)\n"
     ]
    },
    {
     "name": "stdout",
     "output_type": "stream",
     "text": [
      "('/Users/tom/Music/DataSet/test-set_mira_search2/18ND', 33)\n"
     ]
    },
    {
     "name": "stdout",
     "output_type": "stream",
     "text": [
      "('/Users/tom/Music/DataSet/test-set_mira_search2/0YFR', 32)\n"
     ]
    },
    {
     "name": "stdout",
     "output_type": "stream",
     "text": [
      "('/Users/tom/Music/DataSet/test-set_mira_search2/RNSH', 31)\n"
     ]
    },
    {
     "name": "stdout",
     "output_type": "stream",
     "text": [
      "('/Users/tom/Music/DataSet/test-set_mira_search2/UROP', 30)\n"
     ]
    },
    {
     "name": "stdout",
     "output_type": "stream",
     "text": [
      "('/Users/tom/Music/DataSet/test-set_mira_search2/8JMM', 29)\n"
     ]
    },
    {
     "name": "stdout",
     "output_type": "stream",
     "text": [
      "('/Users/tom/Music/DataSet/test-set_mira_search2/6W58', 28)\n"
     ]
    },
    {
     "name": "stdout",
     "output_type": "stream",
     "text": [
      "('/Users/tom/Music/DataSet/test-set_mira_search2/RCFS', 27)\n"
     ]
    },
    {
     "name": "stdout",
     "output_type": "stream",
     "text": [
      "('/Users/tom/Music/DataSet/test-set_mira_search2/9F7P', 26)\n"
     ]
    },
    {
     "name": "stdout",
     "output_type": "stream",
     "text": [
      "('/Users/tom/Music/DataSet/test-set_mira_search2/RVJK', 25)\n"
     ]
    },
    {
     "name": "stdout",
     "output_type": "stream",
     "text": [
      "('/Users/tom/Music/DataSet/test-set_mira_search2/I2BZ', 24)\n"
     ]
    },
    {
     "name": "stdout",
     "output_type": "stream",
     "text": [
      "('/Users/tom/Music/DataSet/test-set_mira_search2/UA22', 23)\n"
     ]
    },
    {
     "name": "stdout",
     "output_type": "stream",
     "text": [
      "('/Users/tom/Music/DataSet/test-set_mira_search2/9WBB', 22)\n"
     ]
    },
    {
     "name": "stdout",
     "output_type": "stream",
     "text": [
      "('/Users/tom/Music/DataSet/test-set_mira_search2/263P', 21)\n"
     ]
    },
    {
     "name": "stdout",
     "output_type": "stream",
     "text": [
      "('/Users/tom/Music/DataSet/test-set_mira_search2/BISW', 20)\n"
     ]
    },
    {
     "name": "stdout",
     "output_type": "stream",
     "text": [
      "('/Users/tom/Music/DataSet/test-set_mira_search2/ATVG', 19)\n"
     ]
    },
    {
     "name": "stdout",
     "output_type": "stream",
     "text": [
      "('/Users/tom/Music/DataSet/test-set_mira_search2/335G', 18)\n"
     ]
    },
    {
     "name": "stdout",
     "output_type": "stream",
     "text": [
      "('/Users/tom/Music/DataSet/test-set_mira_search2/OTAS', 17)\n"
     ]
    },
    {
     "name": "stdout",
     "output_type": "stream",
     "text": [
      "('/Users/tom/Music/DataSet/test-set_mira_search2/D10R', 16)\n"
     ]
    },
    {
     "name": "stdout",
     "output_type": "stream",
     "text": [
      "('/Users/tom/Music/DataSet/test-set_mira_search2/Z9FN', 15)\n"
     ]
    },
    {
     "name": "stdout",
     "output_type": "stream",
     "text": [
      "('/Users/tom/Music/DataSet/test-set_mira_search2/26XW', 14)\n"
     ]
    },
    {
     "name": "stdout",
     "output_type": "stream",
     "text": [
      "('/Users/tom/Music/DataSet/test-set_mira_search2/WXHJ', 13)\n"
     ]
    },
    {
     "name": "stdout",
     "output_type": "stream",
     "text": [
      "('/Users/tom/Music/DataSet/test-set_mira_search2/64TY', 12)\n"
     ]
    },
    {
     "name": "stdout",
     "output_type": "stream",
     "text": [
      "('/Users/tom/Music/DataSet/test-set_mira_search2/2ANM', 11)\n"
     ]
    },
    {
     "name": "stdout",
     "output_type": "stream",
     "text": [
      "('/Users/tom/Music/DataSet/test-set_mira_search2/H2QU', 10)\n"
     ]
    },
    {
     "name": "stdout",
     "output_type": "stream",
     "text": [
      "('/Users/tom/Music/DataSet/test-set_mira_search2/5VGV', 9)\n"
     ]
    },
    {
     "name": "stdout",
     "output_type": "stream",
     "text": [
      "('/Users/tom/Music/DataSet/test-set_mira_search2/4E87', 8)\n"
     ]
    },
    {
     "name": "stdout",
     "output_type": "stream",
     "text": [
      "('/Users/tom/Music/DataSet/test-set_mira_search2/L8SJ', 7)\n"
     ]
    },
    {
     "name": "stdout",
     "output_type": "stream",
     "text": [
      "('/Users/tom/Music/DataSet/test-set_mira_search2/VOBO', 6)\n"
     ]
    },
    {
     "name": "stdout",
     "output_type": "stream",
     "text": [
      "('/Users/tom/Music/DataSet/test-set_mira_search2/NUSQ', 5)\n"
     ]
    },
    {
     "name": "stdout",
     "output_type": "stream",
     "text": [
      "('/Users/tom/Music/DataSet/test-set_mira_search2/343W', 4)\n"
     ]
    },
    {
     "name": "stdout",
     "output_type": "stream",
     "text": [
      "('/Users/tom/Music/DataSet/test-set_mira_search2/9NWW', 3)\n"
     ]
    },
    {
     "name": "stdout",
     "output_type": "stream",
     "text": [
      "('/Users/tom/Music/DataSet/test-set_mira_search2/GKB4', 2)\n"
     ]
    },
    {
     "name": "stdout",
     "output_type": "stream",
     "text": [
      "('/Users/tom/Music/DataSet/test-set_mira_search2/I1CH', 1)\nno param.json\n"
     ]
    }
   ],
   "source": [
    "est_base_dir = '/Users/tom/Music/DataSet/test-set_mira_search2/'\n",
    "ref_dir = '/Users/tom/Music/DataSet/test-set_man'\n",
    "est_dir_list = get_dir_list(est_base_dir)\n",
    "\n",
    "output = []\n",
    "len_todo = len(est_dir_list)\n",
    "for est_dir in est_dir_list:\n",
    "    print(est_dir, len_todo)\n",
    "    s = dir_to_score(ref_dir, est_dir)\n",
    "    param_path = os.path.join(est_dir, 'param.json')\n",
    "    if os.path.isfile(param_path):\n",
    "        with open(param_path, 'r') as stream:\n",
    "            param = json.load(stream)\n",
    "        output.append([s, param])\n",
    "    else:\n",
    "        print('no param.json')\n",
    "    len_todo -= 1"
   ]
  },
  {
   "cell_type": "code",
   "execution_count": 36,
   "metadata": {
    "collapsed": false
   },
   "outputs": [
    {
     "data": {
      "image/png": "[encoded data removed]",
      "text/plain": [
       "<matplotlib.figure.Figure at 0x11323a1d0>"
      ]
     },
     "metadata": {},
     "output_type": "display_data"
    }
   ],
   "source": [
    "plt.figure()\n",
    "for pair in output:\n",
    "    scores = pair[0]\n",
    "    param = pair[1]\n",
    "    plt.scatter(param['nfft'], scores['F-measure_no_offset'])\n",
    "plt.show()"
   ]
  },
  {
   "cell_type": "code",
   "execution_count": 37,
   "metadata": {},
   "outputs": [
    {
     "data": {
      "image/png": "[encoded data removed]",
      "text/plain": [
       "<matplotlib.figure.Figure at 0x113268450>"
      ]
     },
     "metadata": {},
     "output_type": "display_data"
    }
   ],
   "source": [
    "plt.figure()\n",
    "for pair in output:\n",
    "    scores = pair[0]\n",
    "    param = pair[1]\n",
    "    plt.scatter(param['nfft'], scores['Recall_no_offset'])\n",
    "plt.show()\n"
   ]
  },
  {
   "cell_type": "code",
   "execution_count": 41,
   "metadata": {
    "collapsed": true
   },
   "outputs": [
    {
     "data": {
      "image/png": "[encoded data removed]",
      "text/plain": [
       "<matplotlib.figure.Figure at 0x113681150>"
      ]
     },
     "metadata": {},
     "output_type": "display_data"
    }
   ],
   "source": [
    "plt.figure()\n",
    "for pair in output:\n",
    "    scores = pair[0]\n",
    "    param = pair[1]\n",
    "    plt.scatter(param['minimal_interference'], scores['F-measure_no_offset'])\n",
    "plt.show()\n"
   ]
  },
  {
   "cell_type": "code",
   "execution_count": 42,
   "metadata": {},
   "outputs": [
    {
     "data": {
      "image/png": "[encoded data removed]",
      "text/plain": [
       "<matplotlib.figure.Figure at 0x113445990>"
      ]
     },
     "metadata": {},
     "output_type": "display_data"
    }
   ],
   "source": [
    "plt.figure()\n",
    "for pair in output:\n",
    "    scores = pair[0]\n",
    "    param = pair[1]\n",
    "    plt.scatter(param['minimal_interference'], scores['Recall_no_offset'])\n",
    "plt.show()\n"
   ]
  },
  {
   "cell_type": "code",
   "execution_count": 43,
   "metadata": {},
   "outputs": [
    {
     "data": {
      "image/png": "[encoded data removed]",
      "text/plain": [
       "<matplotlib.figure.Figure at 0x11386bd90>"
      ]
     },
     "metadata": {},
     "output_type": "display_data"
    }
   ],
   "source": [
    "plt.figure()\n",
    "for pair in output:\n",
    "    scores = pair[0]\n",
    "    param = pair[1]\n",
    "    plt.scatter(param['n_iter'], scores['F-measure_no_offset'])\n",
    "plt.show()"
   ]
  },
  {
   "cell_type": "code",
   "execution_count": 44,
   "metadata": {},
   "outputs": [
    {
     "data": {
      "image/png": "[encoded data removed]",
      "text/plain": [
       "<matplotlib.figure.Figure at 0x115b9b7d0>"
      ]
     },
     "metadata": {},
     "output_type": "display_data"
    }
   ],
   "source": [
    "plt.figure()\n",
    "for pair in output:\n",
    "    scores = pair[0]\n",
    "    param = pair[1]\n",
    "    plt.scatter(param['n_iter'], scores['Recall_no_offset'])\n",
    "plt.show()"
   ]
  },
  {
   "cell_type": "code",
   "execution_count": 45,
   "metadata": {},
   "outputs": [
    {
     "data": {
      "image/png": "[encoded data removed]",
      "text/plain": [
       "<matplotlib.figure.Figure at 0x115e15ad0>"
      ]
     },
     "metadata": {},
     "output_type": "display_data"
    }
   ],
   "source": [
    "plt.figure()\n",
    "for pair in output:\n",
    "    scores = pair[0]\n",
    "    param = pair[1]\n",
    "    plt.scatter(param['overlap'], scores['F-measure_no_offset'])\n",
    "plt.show()"
   ]
  },
  {
   "cell_type": "code",
   "execution_count": 46,
   "metadata": {},
   "outputs": [
    {
     "data": {
      "image/png": "[encoded data removed]",
      "text/plain": [
       "<matplotlib.figure.Figure at 0x115e4bb10>"
      ]
     },
     "metadata": {},
     "output_type": "display_data"
    }
   ],
   "source": [
    "plt.figure()\n",
    "for pair in output:\n",
    "    scores = pair[0]\n",
    "    param = pair[1]\n",
    "    plt.scatter(param['overlap'], scores['Recall_no_offset'])\n",
    "plt.show()"
   ]
  },
  {
   "cell_type": "code",
   "execution_count": 24,
   "metadata": {},
   "outputs": [],
   "source": []
  },
  {
   "cell_type": "code",
   "execution_count": 13,
   "metadata": {},
   "outputs": [],
   "source": []
  },
  {
   "cell_type": "code",
   "execution_count": null,
   "metadata": {},
   "outputs": [],
   "source": []
  }
 ],
 "metadata": {
  "anaconda-cloud": {},
  "kernelspec": {
   "display_name": "Python [conda root]",
   "language": "python",
   "name": "conda-root-py"
  },
  "language_info": {
   "codemirror_mode": {
    "name": "ipython",
    "version": 2
   },
   "file_extension": ".py",
   "mimetype": "text/x-python",
   "name": "python",
   "nbconvert_exporter": "python",
   "pygments_lexer": "ipython2",
   "version": "2.7.12"
  }
 },
 "nbformat": 4,
 "nbformat_minor": 2
}
