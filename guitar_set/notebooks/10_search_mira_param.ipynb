{
 "cells": [
  {
   "cell_type": "code",
   "execution_count": null,
   "metadata": {
    "collapsed": true
   },
   "outputs": [],
   "source": [
    "import guitar_set.scripts.annotate as annotate"
   ]
  },
  {
   "cell_type": "code",
   "execution_count": 2,
   "metadata": {},
   "outputs": [],
   "source": [
    "\n",
    "base_dir = '/Users/tom/Music/DataSet/test-set_mira_search1/'\n",
    "todo_list = annotate.get_dir_list(base_dir)"
   ]
  },
  {
   "cell_type": "code",
   "execution_count": 4,
   "metadata": {},
   "outputs": [
    {
     "name": "stdout",
     "output_type": "stream",
     "text": [
      "['jf_Funk3-112-C#_c_hex_cln.wav', 'js_SS2-107-Ab_s_hex_cln.wav', 'vl_Jazz2-110-Bb_s_hex_cln.wav', 'vl_Jazz2-110-Bb_c_hex_cln.wav', 'jf_Funk3-112-C#_s_hex_cln.wav', 'js_SS2-107-Ab_c_hex_cln.wav', 'eh_BN1-129-Eb_s_hex_cln.wav', 'eh_BN1-129-Eb_c_hex_cln.wav']\n['jf_Funk3-112-C#_c_hex_cln.wav', 8]\n"
     ]
    },
    {
     "name": "stdout",
     "output_type": "stream",
     "text": [
      "vamp.collect errored, trying again...\nvamp.collect errored, trying again...\nvamp.collect errored, trying again...\nvamp.collect errored, trying again...\n"
     ]
    },
    {
     "name": "stdout",
     "output_type": "stream",
     "text": [
      "vamp.collect errored, trying again...\nvamp.collect errored, trying again...\nvamp.collect errored, trying again...\nvamp.collect errored, trying again...\n"
     ]
    },
    {
     "name": "stdout",
     "output_type": "stream",
     "text": [
      "vamp.collect errored, trying again...\nvamp.collect errored, trying again...\nvamp.collect errored, trying again...\nvamp.collect errored, trying again...\n"
     ]
    },
    {
     "name": "stdout",
     "output_type": "stream",
     "text": [
      "vamp.collect errored, trying again...\nvamp.collect errored, trying again...\nvamp.collect errored, trying again...\nvamp.collect errored, trying again...\n"
     ]
    },
    {
     "name": "stdout",
     "output_type": "stream",
     "text": [
      "vamp.collect errored, trying again...\nvamp.collect errored, trying again...\nvamp.collect errored, trying again...\nvamp.collect errored, trying again...\n"
     ]
    },
    {
     "name": "stdout",
     "output_type": "stream",
     "text": [
      "vamp.collect errored, trying again...\nvamp.collect errored, trying again...\nvamp.collect errored, trying again...\nvamp.collect errored, trying again...\n"
     ]
    },
    {
     "name": "stdout",
     "output_type": "stream",
     "text": [
      "vamp.collect errored, trying again...\nvamp.collect errored, trying again...\nvamp.collect errored, trying again...\nvamp.collect errored, trying again...\nvamp.collect errored, trying again...\n"
     ]
    },
    {
     "name": "stdout",
     "output_type": "stream",
     "text": [
      "vamp.collect errored, trying again...\nvamp.collect errored, trying again...\nvamp.collect errored, trying again...\nvamp.collect errored, trying again...\nvamp.collect errored, trying again...\nvamp.collect errored, trying again...\n"
     ]
    },
    {
     "name": "stdout",
     "output_type": "stream",
     "text": [
      "vamp.collect errored, trying again...\nvamp.collect errored, trying again...\nvamp.collect errored, trying again...\nvamp.collect errored, trying again...\nvamp.collect errored, trying again...\nvamp.collect errored, trying again...\n"
     ]
    },
    {
     "name": "stdout",
     "output_type": "stream",
     "text": [
      "vamp.collect errored, trying again...\nvamp.collect errored, trying again...\nvamp.collect errored, trying again...\nvamp.collect errored, trying again...\n"
     ]
    },
    {
     "name": "stdout",
     "output_type": "stream",
     "text": [
      "vamp.collect errored, trying again...\nvamp.collect errored, trying again...\nvamp.collect errored, trying again...\nvamp.collect errored, trying again...\n"
     ]
    },
    {
     "name": "stdout",
     "output_type": "stream",
     "text": [
      "vamp.collect errored, trying again...\nvamp.collect errored, trying again...\nvamp.collect errored, trying again...\nvamp.collect errored, trying again...\n"
     ]
    },
    {
     "name": "stdout",
     "output_type": "stream",
     "text": [
      "vamp.collect errored, trying again...\nvamp.collect errored, trying again...\nvamp.collect errored, trying again...\nvamp.collect errored, trying again...\n"
     ]
    },
    {
     "name": "stdout",
     "output_type": "stream",
     "text": [
      "vamp.collect errored, trying again...\nvamp.collect errored, trying again...\nvamp.collect errored, trying again...\nvamp.collect errored, trying again...\n"
     ]
    },
    {
     "name": "stdout",
     "output_type": "stream",
     "text": [
      "vamp.collect errored, trying again...\nvamp.collect errored, trying again...\nvamp.collect errored, trying again...\nvamp.collect errored, trying again...\n"
     ]
    },
    {
     "name": "stdout",
     "output_type": "stream",
     "text": [
      "vamp.collect errored, trying again...\nvamp.collect errored, trying again...\nvamp.collect errored, trying again...\nvamp.collect errored, trying again...\n"
     ]
    },
    {
     "name": "stdout",
     "output_type": "stream",
     "text": [
      "vamp.collect errored, trying again...\nvamp.collect errored, trying again...\nvamp.collect errored, trying again...\nvamp.collect errored, trying again...\n"
     ]
    },
    {
     "name": "stdout",
     "output_type": "stream",
     "text": [
      "vamp.collect errored, trying again...\nvamp.collect errored, trying again...\nvamp.collect errored, trying again...\nvamp.collect errored, trying again...\n"
     ]
    },
    {
     "name": "stdout",
     "output_type": "stream",
     "text": [
      "vamp.collect errored, trying again...\nvamp.collect errored, trying again...\nvamp.collect errored, trying again...\nvamp.collect errored, trying again...\n"
     ]
    },
    {
     "name": "stdout",
     "output_type": "stream",
     "text": [
      "vamp.collect errored, trying again...\nvamp.collect errored, trying again...\nvamp.collect errored, trying again...\nvamp.collect errored, trying again...\n"
     ]
    },
    {
     "name": "stdout",
     "output_type": "stream",
     "text": [
      "vamp.collect errored, trying again...\nvamp.collect errored, trying again...\nvamp.collect errored, trying again...\nvamp.collect errored, trying again...\n"
     ]
    },
    {
     "name": "stdout",
     "output_type": "stream",
     "text": [
      "vamp.collect errored, trying again...\nvamp.collect errored, trying again...\nvamp.collect errored, trying again...\nvamp.collect errored, trying again...\n"
     ]
    },
    {
     "name": "stdout",
     "output_type": "stream",
     "text": [
      "vamp.collect errored, trying again...\nvamp.collect errored, trying again...\nvamp.collect errored, trying again...\nvamp.collect errored, trying again...\n"
     ]
    },
    {
     "name": "stdout",
     "output_type": "stream",
     "text": [
      "vamp.collect errored, trying again...\nvamp.collect errored, trying again...\nvamp.collect errored, trying again...\nvamp.collect errored, trying again...\n"
     ]
    },
    {
     "name": "stdout",
     "output_type": "stream",
     "text": [
      "vamp.collect errored, trying again...\nvamp.collect errored, trying again...\nvamp.collect errored, trying again...\nvamp.collect errored, trying again...\n"
     ]
    },
    {
     "name": "stdout",
     "output_type": "stream",
     "text": [
      "vamp.collect errored, trying again...\nvamp.collect errored, trying again...\nvamp.collect errored, trying again...\nvamp.collect errored, trying again...\n"
     ]
    },
    {
     "name": "stdout",
     "output_type": "stream",
     "text": [
      "vamp.collect errored, trying again...\nvamp.collect errored, trying again...\nvamp.collect errored, trying again...\nvamp.collect errored, trying again...\n"
     ]
    },
    {
     "name": "stdout",
     "output_type": "stream",
     "text": [
      "vamp.collect errored, trying again...\nvamp.collect errored, trying again...\nvamp.collect errored, trying again...\nvamp.collect errored, trying again...\n"
     ]
    },
    {
     "name": "stdout",
     "output_type": "stream",
     "text": [
      "vamp.collect errored, trying again...\nvamp.collect errored, trying again...\nvamp.collect errored, trying again...\nvamp.collect errored, trying again...\n"
     ]
    },
    {
     "name": "stdout",
     "output_type": "stream",
     "text": [
      "vamp.collect errored, trying again...\nvamp.collect errored, trying again...\nvamp.collect errored, trying again...\nvamp.collect errored, trying again...\n"
     ]
    },
    {
     "name": "stdout",
     "output_type": "stream",
     "text": [
      "vamp.collect errored, trying again...\nvamp.collect errored, trying again...\nvamp.collect errored, trying again...\nvamp.collect errored, trying again...\nvamp.collect errored, trying again...\n"
     ]
    },
    {
     "name": "stdout",
     "output_type": "stream",
     "text": [
      "vamp.collect errored, trying again...\nvamp.collect errored, trying again...\nvamp.collect errored, trying again...\nvamp.collect errored, trying again...\n"
     ]
    },
    {
     "name": "stdout",
     "output_type": "stream",
     "text": [
      "vamp.collect errored, trying again...\nvamp.collect errored, trying again...\nvamp.collect errored, trying again...\nvamp.collect errored, trying again...\n"
     ]
    },
    {
     "name": "stdout",
     "output_type": "stream",
     "text": [
      "vamp.collect errored, trying again...\nvamp.collect errored, trying again...\nvamp.collect errored, trying again...\nvamp.collect errored, trying again...\nvamp.collect errored, trying again...\n"
     ]
    },
    {
     "name": "stdout",
     "output_type": "stream",
     "text": [
      "vamp.collect errored, trying again...\nvamp.collect errored, trying again...\nvamp.collect errored, trying again...\nvamp.collect errored, trying again...\nvamp.collect errored, trying again...\n"
     ]
    },
    {
     "name": "stdout",
     "output_type": "stream",
     "text": [
      "vamp.collect errored, trying again...\nvamp.collect errored, trying again...\nvamp.collect errored, trying again...\nvamp.collect errored, trying again...\n"
     ]
    },
    {
     "name": "stdout",
     "output_type": "stream",
     "text": [
      "vamp.collect errored, trying again...\nvamp.collect errored, trying again...\nvamp.collect errored, trying again...\nvamp.collect errored, trying again...\n"
     ]
    },
    {
     "name": "stdout",
     "output_type": "stream",
     "text": [
      "vamp.collect errored, trying again...\nvamp.collect errored, trying again...\nvamp.collect errored, trying again...\nvamp.collect errored, trying again...\n"
     ]
    },
    {
     "name": "stdout",
     "output_type": "stream",
     "text": [
      "vamp.collect errored, trying again...\nvamp.collect errored, trying again...\nvamp.collect errored, trying again...\nvamp.collect errored, trying again...\n"
     ]
    },
    {
     "name": "stdout",
     "output_type": "stream",
     "text": [
      "vamp.collect errored, trying again...\nvamp.collect errored, trying again...\nvamp.collect errored, trying again...\nvamp.collect errored, trying again...\n"
     ]
    },
    {
     "name": "stdout",
     "output_type": "stream",
     "text": [
      "vamp.collect errored, trying again...\nvamp.collect errored, trying again...\nvamp.collect errored, trying again...\nvamp.collect errored, trying again...\n"
     ]
    },
    {
     "name": "stdout",
     "output_type": "stream",
     "text": [
      "vamp.collect errored, trying again...\nvamp.collect errored, trying again...\nvamp.collect errored, trying again...\nvamp.collect errored, trying again...\n"
     ]
    },
    {
     "name": "stdout",
     "output_type": "stream",
     "text": [
      "vamp.collect errored, trying again...\nvamp.collect errored, trying again...\nvamp.collect errored, trying again...\nvamp.collect errored, trying again...\n"
     ]
    },
    {
     "name": "stdout",
     "output_type": "stream",
     "text": [
      "vamp.collect errored, trying again...\nvamp.collect errored, trying again...\nvamp.collect errored, trying again...\nvamp.collect errored, trying again...\n"
     ]
    },
    {
     "name": "stdout",
     "output_type": "stream",
     "text": [
      "vamp.collect errored, trying again...\nvamp.collect errored, trying again...\nvamp.collect errored, trying again...\nvamp.collect errored, trying again...\n"
     ]
    },
    {
     "name": "stdout",
     "output_type": "stream",
     "text": [
      "vamp.collect errored, trying again...\nvamp.collect errored, trying again...\nvamp.collect errored, trying again...\nvamp.collect errored, trying again...\n"
     ]
    },
    {
     "name": "stdout",
     "output_type": "stream",
     "text": [
      "vamp.collect errored, trying again...\nvamp.collect errored, trying again...\nvamp.collect errored, trying again...\nvamp.collect errored, trying again...\n"
     ]
    },
    {
     "name": "stdout",
     "output_type": "stream",
     "text": [
      "vamp.collect errored, trying again...\nvamp.collect errored, trying again...\nvamp.collect errored, trying again...\nvamp.collect errored, trying again...\n"
     ]
    },
    {
     "name": "stdout",
     "output_type": "stream",
     "text": [
      "vamp.collect errored, trying again...\nvamp.collect errored, trying again...\nvamp.collect errored, trying again...\nvamp.collect errored, trying again...\n"
     ]
    },
    {
     "name": "stdout",
     "output_type": "stream",
     "text": [
      "vamp.collect errored, trying again...\nvamp.collect errored, trying again...\nvamp.collect errored, trying again...\nvamp.collect errored, trying again...\n"
     ]
    },
    {
     "name": "stdout",
     "output_type": "stream",
     "text": [
      "vamp.collect errored, trying again...\nvamp.collect errored, trying again...\nvamp.collect errored, trying again...\nvamp.collect errored, trying again...\n"
     ]
    },
    {
     "name": "stdout",
     "output_type": "stream",
     "text": [
      "vamp.collect errored, trying again...\nvamp.collect errored, trying again...\nvamp.collect errored, trying again...\nvamp.collect errored, trying again...\n"
     ]
    },
    {
     "name": "stdout",
     "output_type": "stream",
     "text": [
      "vamp.collect errored, trying again...\nvamp.collect errored, trying again...\nvamp.collect errored, trying again...\nvamp.collect errored, trying again...\n"
     ]
    },
    {
     "name": "stdout",
     "output_type": "stream",
     "text": [
      "vamp.collect errored, trying again...\nvamp.collect errored, trying again...\nvamp.collect errored, trying again...\nvamp.collect errored, trying again...\n"
     ]
    },
    {
     "name": "stdout",
     "output_type": "stream",
     "text": [
      "vamp.collect errored, trying again...\nvamp.collect errored, trying again...\nvamp.collect errored, trying again...\nvamp.collect errored, trying again...\n"
     ]
    },
    {
     "name": "stdout",
     "output_type": "stream",
     "text": [
      "vamp.collect errored, trying again...\nvamp.collect errored, trying again...\nvamp.collect errored, trying again...\nvamp.collect errored, trying again...\nvamp.collect errored, trying again...\n"
     ]
    },
    {
     "name": "stdout",
     "output_type": "stream",
     "text": [
      "vamp.collect errored, trying again...\nvamp.collect errored, trying again...\nvamp.collect errored, trying again...\nvamp.collect errored, trying again...\nvamp.collect errored, trying again...\n"
     ]
    },
    {
     "name": "stdout",
     "output_type": "stream",
     "text": [
      "vamp.collect errored, trying again...\nvamp.collect errored, trying again...\nvamp.collect errored, trying again...\nvamp.collect errored, trying again...\n"
     ]
    },
    {
     "name": "stdout",
     "output_type": "stream",
     "text": [
      "vamp.collect errored, trying again...\nvamp.collect errored, trying again...\nvamp.collect errored, trying again...\nvamp.collect errored, trying again...\nvamp.collect errored, trying again..."
     ]
    },
    {
     "name": "stdout",
     "output_type": "stream",
     "text": [
      "\nvamp.collect errored, trying again...\nvamp.collect errored, trying again...\nvamp.collect errored, trying again...\nvamp.collect errored, trying again...\n"
     ]
    },
    {
     "name": "stdout",
     "output_type": "stream",
     "text": [
      "vamp.collect errored, trying again...\nvamp.collect errored, trying again...\nvamp.collect errored, trying again...\nvamp.collect errored, trying again...\nvamp.collect errored, trying again...\n"
     ]
    },
    {
     "name": "stdout",
     "output_type": "stream",
     "text": [
      "vamp.collect errored, trying again...\nvamp.collect errored, trying again...\nvamp.collect errored, trying again...\nvamp.collect errored, trying again...\n"
     ]
    },
    {
     "name": "stdout",
     "output_type": "stream",
     "text": [
      "vamp.collect errored, trying again...\nvamp.collect errored, trying again...\nvamp.collect errored, trying again...\nvamp.collect errored, trying again...\n"
     ]
    },
    {
     "name": "stdout",
     "output_type": "stream",
     "text": [
      "vamp.collect errored, trying again...\nvamp.collect errored, trying again...\nvamp.collect errored, trying again...\nvamp.collect errored, trying again...\n"
     ]
    },
    {
     "name": "stdout",
     "output_type": "stream",
     "text": [
      "vamp.collect errored, trying again...\nvamp.collect errored, trying again...\nvamp.collect errored, trying again...\nvamp.collect errored, trying again...\n"
     ]
    },
    {
     "name": "stdout",
     "output_type": "stream",
     "text": [
      "vamp.collect errored, trying again...\nvamp.collect errored, trying again...\nvamp.collect errored, trying again...\nvamp.collect errored, trying again...\n"
     ]
    },
    {
     "name": "stdout",
     "output_type": "stream",
     "text": [
      "vamp.collect errored, trying again...\nvamp.collect errored, trying again...\nvamp.collect errored, trying again...\nvamp.collect errored, trying again...\n"
     ]
    },
    {
     "name": "stdout",
     "output_type": "stream",
     "text": [
      "vamp.collect errored, trying again...\nvamp.collect errored, trying again...\nvamp.collect errored, trying again...\nvamp.collect errored, trying again...\n"
     ]
    },
    {
     "name": "stdout",
     "output_type": "stream",
     "text": [
      "vamp.collect errored, trying again...\nvamp.collect errored, trying again...\nvamp.collect errored, trying again...\nvamp.collect errored, trying again...\n"
     ]
    },
    {
     "name": "stdout",
     "output_type": "stream",
     "text": [
      "vamp.collect errored, trying again...\nvamp.collect errored, trying again...\nvamp.collect errored, trying again...\nvamp.collect errored, trying again...\n"
     ]
    },
    {
     "name": "stdout",
     "output_type": "stream",
     "text": [
      "vamp.collect errored, trying again...\nvamp.collect errored, trying again...\nvamp.collect errored, trying again...\nvamp.collect errored, trying again...\n"
     ]
    },
    {
     "name": "stdout",
     "output_type": "stream",
     "text": [
      "vamp.collect errored, trying again...\nvamp.collect errored, trying again...\nvamp.collect errored, trying again...\nvamp.collect errored, trying again...\n"
     ]
    },
    {
     "name": "stdout",
     "output_type": "stream",
     "text": [
      "vamp.collect errored, trying again...\nvamp.collect errored, trying again...\nvamp.collect errored, trying again...\nvamp.collect errored, trying again...\n"
     ]
    },
    {
     "name": "stdout",
     "output_type": "stream",
     "text": [
      "vamp.collect errored, trying again...\nvamp.collect errored, trying again...\nvamp.collect errored, trying again...\nvamp.collect errored, trying again...\n"
     ]
    },
    {
     "name": "stdout",
     "output_type": "stream",
     "text": [
      "vamp.collect errored, trying again...\nvamp.collect errored, trying again...\nvamp.collect errored, trying again...\nvamp.collect errored, trying again...\n"
     ]
    },
    {
     "name": "stdout",
     "output_type": "stream",
     "text": [
      "vamp.collect errored, trying again...\nvamp.collect errored, trying again...\nvamp.collect errored, trying again...\nvamp.collect errored, trying again...\n"
     ]
    },
    {
     "name": "stdout",
     "output_type": "stream",
     "text": [
      "vamp.collect errored, trying again...\nvamp.collect errored, trying again...\nvamp.collect errored, trying again...\nvamp.collect errored, trying again...\n"
     ]
    },
    {
     "name": "stdout",
     "output_type": "stream",
     "text": [
      "vamp.collect errored, trying again...\nvamp.collect errored, trying again...\nvamp.collect errored, trying again...\nvamp.collect errored, trying again...\n"
     ]
    },
    {
     "name": "stdout",
     "output_type": "stream",
     "text": [
      "vamp.collect errored, trying again...\nvamp.collect errored, trying again...\nvamp.collect errored, trying again...\nvamp.collect errored, trying again...\n"
     ]
    },
    {
     "name": "stdout",
     "output_type": "stream",
     "text": [
      "vamp.collect errored, trying again...\nvamp.collect errored, trying again...\nvamp.collect errored, trying again...\nvamp.collect errored, trying again...\n"
     ]
    },
    {
     "name": "stdout",
     "output_type": "stream",
     "text": [
      "vamp.collect errored, trying again...\nvamp.collect errored, trying again...\nvamp.collect errored, trying again...\nvamp.collect errored, trying again...\n"
     ]
    },
    {
     "name": "stdout",
     "output_type": "stream",
     "text": [
      "vamp.collect errored, trying again...\nvamp.collect errored, trying again...\nvamp.collect errored, trying again...\nvamp.collect errored, trying again...\nvamp.collect errored, trying again...\n"
     ]
    },
    {
     "name": "stdout",
     "output_type": "stream",
     "text": [
      "vamp.collect errored, trying again...\nvamp.collect errored, trying again...\nvamp.collect errored, trying again...\nvamp.collect errored, trying again...\nvamp.collect errored, trying again...\n"
     ]
    },
    {
     "name": "stdout",
     "output_type": "stream",
     "text": [
      "vamp.collect errored, trying again...\nvamp.collect errored, trying again...\nvamp.collect errored, trying again...\nvamp.collect errored, trying again...\nvamp.collect errored, trying again...\nvamp.collect errored, trying again...\n"
     ]
    },
    {
     "name": "stdout",
     "output_type": "stream",
     "text": [
      "vamp.collect errored, trying again...\nvamp.collect errored, trying again...\nvamp.collect errored, trying again...\nvamp.collect errored, trying again...\n"
     ]
    },
    {
     "name": "stdout",
     "output_type": "stream",
     "text": [
      "vamp.collect errored, trying again...\nvamp.collect errored, trying again...\nvamp.collect errored, trying again...\nvamp.collect errored, trying again...\n"
     ]
    },
    {
     "name": "stdout",
     "output_type": "stream",
     "text": [
      "vamp.collect errored, trying again...\nvamp.collect errored, trying again...\nvamp.collect errored, trying again...\nvamp.collect errored, trying again...\n"
     ]
    },
    {
     "name": "stdout",
     "output_type": "stream",
     "text": [
      "vamp.collect errored, trying again...\nvamp.collect errored, trying again...\nvamp.collect errored, trying again...\nvamp.collect errored, trying again...\n"
     ]
    },
    {
     "name": "stdout",
     "output_type": "stream",
     "text": [
      "vamp.collect errored, trying again...\nvamp.collect errored, trying again...\nvamp.collect errored, trying again...\nvamp.collect errored, trying again...\n"
     ]
    },
    {
     "name": "stdout",
     "output_type": "stream",
     "text": [
      "vamp.collect errored, trying again...\nvamp.collect errored, trying again...\nvamp.collect errored, trying again...\nvamp.collect errored, trying again...\n"
     ]
    },
    {
     "name": "stdout",
     "output_type": "stream",
     "text": [
      "vamp.collect errored, trying again...\nvamp.collect errored, trying again...\nvamp.collect errored, trying again...\nvamp.collect errored, trying again...\n"
     ]
    },
    {
     "name": "stdout",
     "output_type": "stream",
     "text": [
      "vamp.collect errored, trying again...\nvamp.collect errored, trying again...\nvamp.collect errored, trying again...\nvamp.collect errored, trying again...\n"
     ]
    },
    {
     "name": "stdout",
     "output_type": "stream",
     "text": [
      "vamp.collect errored, trying again...\nvamp.collect errored, trying again...\nvamp.collect errored, trying again...\nvamp.collect errored, trying again...\n"
     ]
    },
    {
     "name": "stdout",
     "output_type": "stream",
     "text": [
      "vamp.collect errored, trying again...\nvamp.collect errored, trying again...\nvamp.collect errored, trying again...\nvamp.collect errored, trying again...\n"
     ]
    },
    {
     "name": "stdout",
     "output_type": "stream",
     "text": [
      "vamp.collect errored, trying again...\nvamp.collect errored, trying again...\nvamp.collect errored, trying again...\nvamp.collect errored, trying again...\n"
     ]
    },
    {
     "name": "stdout",
     "output_type": "stream",
     "text": [
      "vamp.collect errored, trying again...\nvamp.collect errored, trying again...\nvamp.collect errored, trying again...\nvamp.collect errored, trying again...\n"
     ]
    },
    {
     "name": "stdout",
     "output_type": "stream",
     "text": [
      "vamp.collect errored, trying again...\nvamp.collect errored, trying again...\nvamp.collect errored, trying again...\nvamp.collect errored, trying again...\n"
     ]
    },
    {
     "name": "stdout",
     "output_type": "stream",
     "text": [
      "vamp.collect errored, trying again...\nvamp.collect errored, trying again...\nvamp.collect errored, trying again...\nvamp.collect errored, trying again...\n"
     ]
    },
    {
     "name": "stdout",
     "output_type": "stream",
     "text": [
      "vamp.collect errored, trying again...\nvamp.collect errored, trying again...\nvamp.collect errored, trying again...\nvamp.collect errored, trying again...\n"
     ]
    },
    {
     "name": "stdout",
     "output_type": "stream",
     "text": [
      "vamp.collect errored, trying again...\nvamp.collect errored, trying again...\nvamp.collect errored, trying again...\nvamp.collect errored, trying again...\n"
     ]
    },
    {
     "name": "stdout",
     "output_type": "stream",
     "text": [
      "vamp.collect errored, trying again...\nvamp.collect errored, trying again...\nvamp.collect errored, trying again...\nvamp.collect errored, trying again...\n"
     ]
    },
    {
     "name": "stdout",
     "output_type": "stream",
     "text": [
      "vamp.collect errored, trying again...\nvamp.collect errored, trying again...\nvamp.collect errored, trying again...\nvamp.collect errored, trying again...\n"
     ]
    },
    {
     "name": "stdout",
     "output_type": "stream",
     "text": [
      "vamp.collect errored, trying again...\nvamp.collect errored, trying again...\nvamp.collect errored, trying again...\nvamp.collect errored, trying again...\n"
     ]
    },
    {
     "name": "stdout",
     "output_type": "stream",
     "text": [
      "vamp.collect errored, trying again...\nvamp.collect errored, trying again...\nvamp.collect errored, trying again...\nvamp.collect errored, trying again...\n"
     ]
    },
    {
     "name": "stdout",
     "output_type": "stream",
     "text": [
      "vamp.collect errored, trying again...\nvamp.collect errored, trying again...\nvamp.collect errored, trying again...\nvamp.collect errored, trying again...\n"
     ]
    },
    {
     "name": "stdout",
     "output_type": "stream",
     "text": [
      "vamp.collect errored, trying again...\nvamp.collect errored, trying again...\nvamp.collect errored, trying again...\nvamp.collect errored, trying again...\n"
     ]
    },
    {
     "name": "stdout",
     "output_type": "stream",
     "text": [
      "vamp.collect errored, trying again...\nvamp.collect errored, trying again...\nvamp.collect errored, trying again...\nvamp.collect errored, trying again...\n"
     ]
    },
    {
     "name": "stdout",
     "output_type": "stream",
     "text": [
      "vamp.collect errored, trying again...\nvamp.collect errored, trying again...\nvamp.collect errored, trying again...\nvamp.collect errored, trying again...\n"
     ]
    },
    {
     "name": "stdout",
     "output_type": "stream",
     "text": [
      "vamp.collect errored, trying again...\nvamp.collect errored, trying again...\nvamp.collect errored, trying again...\nvamp.collect errored, trying again...\nvamp.collect errored, trying again..."
     ]
    },
    {
     "name": "stdout",
     "output_type": "stream",
     "text": [
      "\nvamp.collect errored, trying again...\nvamp.collect errored, trying again...\nvamp.collect errored, trying again...\n"
     ]
    },
    {
     "name": "stdout",
     "output_type": "stream",
     "text": [
      "vamp.collect errored, trying again...\nvamp.collect errored, trying again...\nvamp.collect errored, trying again...\nvamp.collect errored, trying again...\n"
     ]
    },
    {
     "name": "stdout",
     "output_type": "stream",
     "text": [
      "vamp.collect errored, trying again...\nvamp.collect errored, trying again...\nvamp.collect errored, trying again...\nvamp.collect errored, trying again...\n"
     ]
    },
    {
     "name": "stdout",
     "output_type": "stream",
     "text": [
      "vamp.collect errored, trying again...\nvamp.collect errored, trying again...\nvamp.collect errored, trying again...\n"
     ]
    },
    {
     "name": "stdout",
     "output_type": "stream",
     "text": [
      "vamp.collect errored, trying again...\nvamp.collect errored, trying again...\nvamp.collect errored, trying again...\nvamp.collect errored, trying again...\n"
     ]
    },
    {
     "name": "stdout",
     "output_type": "stream",
     "text": [
      "vamp.collect errored, trying again...\nvamp.collect errored, trying again...\nvamp.collect errored, trying again...\nvamp.collect errored, trying again...\n"
     ]
    },
    {
     "name": "stdout",
     "output_type": "stream",
     "text": [
      "vamp.collect errored, trying again...\nvamp.collect errored, trying again...\nvamp.collect errored, trying again...\nvamp.collect errored, trying again...\n"
     ]
    },
    {
     "name": "stdout",
     "output_type": "stream",
     "text": [
      "vamp.collect errored, trying again...\nvamp.collect errored, trying again...\nvamp.collect errored, trying again...\nvamp.collect errored, trying again...\n"
     ]
    },
    {
     "name": "stdout",
     "output_type": "stream",
     "text": [
      "vamp.collect errored, trying again...\nvamp.collect errored, trying again...\nvamp.collect errored, trying again...\nvamp.collect errored, trying again...\n"
     ]
    },
    {
     "name": "stdout",
     "output_type": "stream",
     "text": [
      "vamp.collect errored, trying again...\nvamp.collect errored, trying again...\nvamp.collect errored, trying again...\nvamp.collect errored, trying again...\n"
     ]
    },
    {
     "name": "stdout",
     "output_type": "stream",
     "text": [
      "vamp.collect errored, trying again...\nvamp.collect errored, trying again...\nvamp.collect errored, trying again...\nvamp.collect errored, trying again...\n"
     ]
    },
    {
     "name": "stdout",
     "output_type": "stream",
     "text": [
      "vamp.collect errored, trying again...\nvamp.collect errored, trying again...\nvamp.collect errored, trying again...\nvamp.collect errored, trying again...\nvamp.collect errored, trying again...\n"
     ]
    },
    {
     "name": "stdout",
     "output_type": "stream",
     "text": [
      "vamp.collect errored, trying again...\nvamp.collect errored, trying again...\nvamp.collect errored, trying again...\nvamp.collect errored, trying again...\n"
     ]
    },
    {
     "name": "stdout",
     "output_type": "stream",
     "text": [
      "vamp.collect errored, trying again...\nvamp.collect errored, trying again...\nvamp.collect errored, trying again...\nvamp.collect errored, trying again...\n"
     ]
    },
    {
     "name": "stdout",
     "output_type": "stream",
     "text": [
      "vamp.collect errored, trying again...\nvamp.collect errored, trying again...\nvamp.collect errored, trying again...\nvamp.collect errored, trying again...\n"
     ]
    },
    {
     "name": "stdout",
     "output_type": "stream",
     "text": [
      "vamp.collect errored, trying again...\nvamp.collect errored, trying again...\nvamp.collect errored, trying again...\nvamp.collect errored, trying again...\n"
     ]
    },
    {
     "name": "stdout",
     "output_type": "stream",
     "text": [
      "vamp.collect errored, trying again...\nvamp.collect errored, trying again...\nvamp.collect errored, trying again...\nvamp.collect errored, trying again...\n"
     ]
    },
    {
     "name": "stdout",
     "output_type": "stream",
     "text": [
      "vamp.collect errored, trying again...\nvamp.collect errored, trying again...\nvamp.collect errored, trying again...\nvamp.collect errored, trying again...\n"
     ]
    },
    {
     "name": "stdout",
     "output_type": "stream",
     "text": [
      "vamp.collect errored, trying again...\nvamp.collect errored, trying again...\nvamp.collect errored, trying again...\nvamp.collect errored, trying again...\n"
     ]
    },
    {
     "name": "stdout",
     "output_type": "stream",
     "text": [
      "vamp.collect errored, trying again...\nvamp.collect errored, trying again...\nvamp.collect errored, trying again...\nvamp.collect errored, trying again...\n"
     ]
    },
    {
     "name": "stdout",
     "output_type": "stream",
     "text": [
      "vamp.collect errored, trying again...\nvamp.collect errored, trying again...\nvamp.collect errored, trying again...\n"
     ]
    },
    {
     "name": "stdout",
     "output_type": "stream",
     "text": [
      "vamp.collect errored, trying again...\nvamp.collect errored, trying again...\nvamp.collect errored, trying again...\nvamp.collect errored, trying again...\n"
     ]
    },
    {
     "name": "stdout",
     "output_type": "stream",
     "text": [
      "vamp.collect errored, trying again...\nvamp.collect errored, trying again...\nvamp.collect errored, trying again...\nvamp.collect errored, trying again...\n"
     ]
    },
    {
     "name": "stdout",
     "output_type": "stream",
     "text": [
      "vamp.collect errored, trying again...\nvamp.collect errored, trying again...\nvamp.collect errored, trying again...\nvamp.collect errored, trying again...\n"
     ]
    },
    {
     "name": "stdout",
     "output_type": "stream",
     "text": [
      "vamp.collect errored, trying again...\nvamp.collect errored, trying again...\nvamp.collect errored, trying again...\nvamp.collect errored, trying again...\n"
     ]
    },
    {
     "name": "stdout",
     "output_type": "stream",
     "text": [
      "vamp.collect errored, trying again...\nvamp.collect errored, trying again...\nvamp.collect errored, trying again...\nvamp.collect errored, trying again...\n"
     ]
    },
    {
     "name": "stdout",
     "output_type": "stream",
     "text": [
      "vamp.collect errored, trying again...\nvamp.collect errored, trying again...\nvamp.collect errored, trying again...\nvamp.collect errored, trying again...\n"
     ]
    },
    {
     "name": "stdout",
     "output_type": "stream",
     "text": [
      "vamp.collect errored, trying again...\nvamp.collect errored, trying again...\nvamp.collect errored, trying again...\nvamp.collect errored, trying again...\n"
     ]
    },
    {
     "name": "stdout",
     "output_type": "stream",
     "text": [
      "vamp.collect errored, trying again...\nvamp.collect errored, trying again...\nvamp.collect errored, trying again...\nvamp.collect errored, trying again...\n"
     ]
    },
    {
     "name": "stdout",
     "output_type": "stream",
     "text": [
      "vamp.collect errored, trying again...\nvamp.collect errored, trying again...\nvamp.collect errored, trying again...\nvamp.collect errored, trying again...\n"
     ]
    },
    {
     "name": "stdout",
     "output_type": "stream",
     "text": [
      "vamp.collect errored, trying again...\nvamp.collect errored, trying again...\nvamp.collect errored, trying again...\nvamp.collect errored, trying again...\n"
     ]
    },
    {
     "name": "stdout",
     "output_type": "stream",
     "text": [
      "vamp.collect errored, trying again...\nvamp.collect errored, trying again...\nvamp.collect errored, trying again...\nvamp.collect errored, trying again...\n"
     ]
    },
    {
     "name": "stdout",
     "output_type": "stream",
     "text": [
      "vamp.collect errored, trying again...\nvamp.collect errored, trying again...\nvamp.collect errored, trying again...\nvamp.collect errored, trying again...\n"
     ]
    },
    {
     "name": "stdout",
     "output_type": "stream",
     "text": [
      "vamp.collect errored, trying again...\nvamp.collect errored, trying again...\nvamp.collect errored, trying again...\nvamp.collect errored, trying again...\n"
     ]
    },
    {
     "name": "stdout",
     "output_type": "stream",
     "text": [
      "vamp.collect errored, trying again...\nvamp.collect errored, trying again...\nvamp.collect errored, trying again...\nvamp.collect errored, trying again...\n"
     ]
    },
    {
     "name": "stdout",
     "output_type": "stream",
     "text": [
      "vamp.collect errored, trying again...\nvamp.collect errored, trying again...\nvamp.collect errored, trying again...\nvamp.collect errored, trying again...\n"
     ]
    }
   ],
   "source": [
    "for d in todo_list:\n",
    "    annotate.do(d)"
   ]
  },
  {
   "cell_type": "code",
   "execution_count": 3,
   "metadata": {},
   "outputs": [
    {
     "data": {
      "text/plain": [
       "['/Users/tom/Music/DataSet/test-set_mira_search1/2GPH',\n '/Users/tom/Music/DataSet/test-set_mira_search1/6ZWQ',\n '/Users/tom/Music/DataSet/test-set_mira_search1/WF6A',\n '/Users/tom/Music/DataSet/test-set_mira_search1/BBDD',\n '/Users/tom/Music/DataSet/test-set_mira_search1/51CB',\n '/Users/tom/Music/DataSet/test-set_mira_search1/DL88',\n '/Users/tom/Music/DataSet/test-set_mira_search1/FBDY',\n '/Users/tom/Music/DataSet/test-set_mira_search1/PKBA',\n '/Users/tom/Music/DataSet/test-set_mira_search1/SM7N',\n '/Users/tom/Music/DataSet/test-set_mira_search1/ZVMH',\n '/Users/tom/Music/DataSet/test-set_mira_search1/CUIA',\n '/Users/tom/Music/DataSet/test-set_mira_search1/DVTO',\n '/Users/tom/Music/DataSet/test-set_mira_search1/RWQ0',\n '/Users/tom/Music/DataSet/test-set_mira_search1/HCZ5',\n '/Users/tom/Music/DataSet/test-set_mira_search1/D7GQ',\n '/Users/tom/Music/DataSet/test-set_mira_search1/TT2C',\n '/Users/tom/Music/DataSet/test-set_mira_search1/BLP8',\n '/Users/tom/Music/DataSet/test-set_mira_search1/XZ6S',\n '/Users/tom/Music/DataSet/test-set_mira_search1/Y348',\n '/Users/tom/Music/DataSet/test-set_mira_search1/BKBA',\n '/Users/tom/Music/DataSet/test-set_mira_search1/YTKW',\n '/Users/tom/Music/DataSet/test-set_mira_search1/2VVC',\n '/Users/tom/Music/DataSet/test-set_mira_search1/F2ZW',\n '/Users/tom/Music/DataSet/test-set_mira_search1/16P3',\n '/Users/tom/Music/DataSet/test-set_mira_search1/CICB',\n '/Users/tom/Music/DataSet/test-set_mira_search1/V3TY',\n '/Users/tom/Music/DataSet/test-set_mira_search1/HQAI',\n '/Users/tom/Music/DataSet/test-set_mira_search1/2COL',\n '/Users/tom/Music/DataSet/test-set_mira_search1/1W02',\n '/Users/tom/Music/DataSet/test-set_mira_search1/T3EI',\n '/Users/tom/Music/DataSet/test-set_mira_search1/LPPK',\n '/Users/tom/Music/DataSet/test-set_mira_search1/L406',\n '/Users/tom/Music/DataSet/test-set_mira_search1/A43J',\n '/Users/tom/Music/DataSet/test-set_mira_search1/SYSG',\n '/Users/tom/Music/DataSet/test-set_mira_search1/JCU7',\n '/Users/tom/Music/DataSet/test-set_mira_search1/O3UF',\n '/Users/tom/Music/DataSet/test-set_mira_search1/81Y0',\n '/Users/tom/Music/DataSet/test-set_mira_search1/Y29R',\n '/Users/tom/Music/DataSet/test-set_mira_search1/1C9N',\n '/Users/tom/Music/DataSet/test-set_mira_search1/DTD5']"
      ]
     },
     "execution_count": 3,
     "metadata": {},
     "output_type": "execute_result"
    }
   ],
   "source": [
    "todo_list"
   ]
  },
  {
   "cell_type": "code",
   "execution_count": null,
   "metadata": {},
   "outputs": [],
   "source": []
  }
 ],
 "metadata": {
  "kernelspec": {
   "display_name": "Python 2",
   "language": "python",
   "name": "python2"
  },
  "language_info": {
   "codemirror_mode": {
    "name": "ipython",
    "version": 2
   },
   "file_extension": ".py",
   "mimetype": "text/x-python",
   "name": "python",
   "nbconvert_exporter": "python",
   "pygments_lexer": "ipython2",
   "version": "2.7.6"
  }
 },
 "nbformat": 4,
 "nbformat_minor": 0
}
