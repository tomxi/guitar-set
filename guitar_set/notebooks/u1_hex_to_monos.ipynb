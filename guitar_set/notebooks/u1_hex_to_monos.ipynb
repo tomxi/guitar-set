{
 "cells": [
  {
   "cell_type": "code",
   "execution_count": 14,
   "metadata": {},
   "outputs": [],
   "source": [
    "import librosa\n",
    "import sox\n",
    "import os\n",
    "import glob"
   ]
  },
  {
   "cell_type": "code",
   "execution_count": 15,
   "metadata": {},
   "outputs": [
    {
     "data": {
      "text/plain": [
       "['/Users/tom/Music/DataSet/test-set_processed/jf_Funk3-112-C#_c_hex_cln.wav',\n",
       " '/Users/tom/Music/DataSet/test-set_processed/js_SS2-107-Ab_s_hex_cln.wav',\n",
       " '/Users/tom/Music/DataSet/test-set_processed/vl_Jazz2-110-Bb_s_hex_cln.wav',\n",
       " '/Users/tom/Music/DataSet/test-set_processed/vl_Jazz2-110-Bb_c_hex_cln.wav',\n",
       " '/Users/tom/Music/DataSet/test-set_processed/jf_Funk3-112-C#_s_hex_cln.wav',\n",
       " '/Users/tom/Music/DataSet/test-set_processed/js_SS2-107-Ab_c_hex_cln.wav',\n",
       " '/Users/tom/Music/DataSet/test-set_processed/eh_BN1-129-Eb_s_hex_cln.wav',\n",
       " '/Users/tom/Music/DataSet/test-set_processed/eh_BN1-129-Eb_c_hex_cln.wav']"
      ]
     },
     "execution_count": 15,
     "metadata": {},
     "output_type": "execute_result"
    }
   ],
   "source": [
    "file_list = glob.glob('/Users/tom/Music/DataSet/test-set_processed/*.wav')\n",
    "\n",
    "file_list"
   ]
  },
  {
   "cell_type": "code",
   "execution_count": 16,
   "metadata": {},
   "outputs": [],
   "source": [
    "def split_hex(filename):\n",
    "    mono_folder = filename.split('.')[0] + '/'\n",
    "    try:\n",
    "        os.makedirs(mono_folder)\n",
    "    except:\n",
    "        pass\n",
    "    output_mapping = {'0': {1: [1]},\n",
    "                      '1': {1: [2]},\n",
    "                      '2': {1: [3]},\n",
    "                      '3': {1: [4]},\n",
    "                      '4': {1: [5]},\n",
    "                      '5': {1: [6]}\n",
    "                      }\n",
    "\n",
    "    for mix_type, remix_dict in sorted(output_mapping.items()):\n",
    "        tfm = sox.Transformer()\n",
    "        tfm.remix(remix_dictionary=remix_dict)\n",
    "        output_path = os.path.join(mono_folder, '{}.wav'.format(mix_type))\n",
    "        tfm.build(filename, output_path)"
   ]
  },
  {
   "cell_type": "code",
   "execution_count": 17,
   "metadata": {},
   "outputs": [
    {
     "name": "stderr",
     "output_type": "stream",
     "text": [
      "WARNING:root:output_file: /Users/tom/Music/DataSet/test-set_processed/jf_Funk3-112-C#_c_hex_cln/0.wav already exists and will be overwritten on build\n",
      "WARNING:root:output_file: /Users/tom/Music/DataSet/test-set_processed/jf_Funk3-112-C#_c_hex_cln/1.wav already exists and will be overwritten on build\n",
      "WARNING:root:output_file: /Users/tom/Music/DataSet/test-set_processed/jf_Funk3-112-C#_c_hex_cln/2.wav already exists and will be overwritten on build\n",
      "WARNING:root:output_file: /Users/tom/Music/DataSet/test-set_processed/jf_Funk3-112-C#_c_hex_cln/3.wav already exists and will be overwritten on build\n",
      "WARNING:root:output_file: /Users/tom/Music/DataSet/test-set_processed/jf_Funk3-112-C#_c_hex_cln/4.wav already exists and will be overwritten on build\n",
      "WARNING:root:output_file: /Users/tom/Music/DataSet/test-set_processed/jf_Funk3-112-C#_c_hex_cln/5.wav already exists and will be overwritten on build\n"
     ]
    }
   ],
   "source": [
    "for f in file_list:\n",
    "    split_hex(f)"
   ]
  },
  {
   "cell_type": "code",
   "execution_count": 1,
   "metadata": {},
   "outputs": [
    {
     "name": "stdout",
     "output_type": "stream",
     "text": [
      "/bin/sh: -c: line 0: syntax error near unexpected token `'/Users/tom/Music/DataSet/test-set_processed/jf_Funk3-112-C\\#_c_hex_cln''\r\n",
      "/bin/sh: -c: line 0: `mkdir ('/Users/tom/Music/DataSet/test-set_processed/jf_Funk3-112-C\\#_c_hex_cln')'\r\n"
     ]
    }
   ],
   "source": [
    "mkdir('/Users/tom/Music/DataSet/test-set_processed/jf_Funk3-112-C\\#_c_hex_cln')"
   ]
  },
  {
   "cell_type": "code",
   "execution_count": null,
   "metadata": {},
   "outputs": [],
   "source": []
  }
 ],
 "metadata": {
  "anaconda-cloud": {},
  "kernelspec": {
   "display_name": "Python 3",
   "language": "python",
   "name": "python3"
  },
  "language_info": {
   "codemirror_mode": {
    "name": "ipython",
    "version": 3
   },
   "file_extension": ".py",
   "mimetype": "text/x-python",
   "name": "python",
   "nbconvert_exporter": "python",
   "pygments_lexer": "ipython3",
   "version": "3.6.2"
  }
 },
 "nbformat": 4,
 "nbformat_minor": 2
}
